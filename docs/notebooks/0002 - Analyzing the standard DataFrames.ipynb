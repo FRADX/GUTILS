{
 "cells": [
  {
   "cell_type": "markdown",
   "metadata": {},
   "source": [
    "# Analyzing the standard DataFrames"
   ]
  },
  {
   "cell_type": "code",
   "execution_count": 1,
   "metadata": {
    "collapsed": true
   },
   "outputs": [],
   "source": [
    "%matplotlib inline\n",
    "from IPython.lib.pretty import pprint\n",
    "import logging\n",
    "logger = logging.getLogger('gutils')\n",
    "logger.handlers = [logging.StreamHandler()]\n",
    "logger.setLevel(logging.DEBUG)\n",
    "\n",
    "def plot_profiles(default_df):\n",
    "    import matplotlib.dates as mpd\n",
    "    import matplotlib.pyplot as plt\n",
    "    df = default_df.copy()\n",
    "    df['z'] = df.z.values * -1\n",
    "    df['t'] = mpd.date2num(df.t.dt.to_pydatetime())\n",
    "    df.plot.scatter(x='t', y='z', c='profile', cmap='tab20')\n",
    "    plt.show()"
   ]
  },
  {
   "cell_type": "markdown",
   "metadata": {},
   "source": [
    "### Load a DataFrame of standardized data"
   ]
  },
  {
   "cell_type": "code",
   "execution_count": 2,
   "metadata": {},
   "outputs": [
    {
     "data": {
      "text/html": [
       "<div>\n",
       "<style scoped>\n",
       "    .dataframe tbody tr th:only-of-type {\n",
       "        vertical-align: middle;\n",
       "    }\n",
       "\n",
       "    .dataframe tbody tr th {\n",
       "        vertical-align: top;\n",
       "    }\n",
       "\n",
       "    .dataframe thead th {\n",
       "        text-align: right;\n",
       "    }\n",
       "</style>\n",
       "<table border=\"1\" class=\"dataframe\">\n",
       "  <thead>\n",
       "    <tr style=\"text-align: right;\">\n",
       "      <th></th>\n",
       "      <th>t</th>\n",
       "      <th>y</th>\n",
       "      <th>x</th>\n",
       "      <th>pressure</th>\n",
       "    </tr>\n",
       "  </thead>\n",
       "  <tbody>\n",
       "    <tr>\n",
       "      <th>0</th>\n",
       "      <td>2016-09-09 16:50:20.523320</td>\n",
       "      <td>28.366750</td>\n",
       "      <td>-80.295853</td>\n",
       "      <td>0.00</td>\n",
       "    </tr>\n",
       "    <tr>\n",
       "      <th>1</th>\n",
       "      <td>2016-09-09 16:50:37.544100</td>\n",
       "      <td>28.366750</td>\n",
       "      <td>-80.295853</td>\n",
       "      <td>NaN</td>\n",
       "    </tr>\n",
       "    <tr>\n",
       "      <th>2</th>\n",
       "      <td>2016-09-09 16:50:37.544100</td>\n",
       "      <td>28.366750</td>\n",
       "      <td>-80.295853</td>\n",
       "      <td>NaN</td>\n",
       "    </tr>\n",
       "    <tr>\n",
       "      <th>3</th>\n",
       "      <td>2016-09-09 16:51:35.388820</td>\n",
       "      <td>28.367303</td>\n",
       "      <td>-80.297225</td>\n",
       "      <td>NaN</td>\n",
       "    </tr>\n",
       "    <tr>\n",
       "      <th>4</th>\n",
       "      <td>2016-09-09 16:51:40.490420</td>\n",
       "      <td>28.367351</td>\n",
       "      <td>-80.297344</td>\n",
       "      <td>NaN</td>\n",
       "    </tr>\n",
       "    <tr>\n",
       "      <th>5</th>\n",
       "      <td>2016-09-09 16:51:45.578460</td>\n",
       "      <td>28.367398</td>\n",
       "      <td>-80.297462</td>\n",
       "      <td>NaN</td>\n",
       "    </tr>\n",
       "    <tr>\n",
       "      <th>6</th>\n",
       "      <td>2016-09-09 16:51:50.667110</td>\n",
       "      <td>28.367446</td>\n",
       "      <td>-80.297580</td>\n",
       "      <td>NaN</td>\n",
       "    </tr>\n",
       "    <tr>\n",
       "      <th>7</th>\n",
       "      <td>2016-09-09 16:51:55.768830</td>\n",
       "      <td>28.367494</td>\n",
       "      <td>-80.297698</td>\n",
       "      <td>NaN</td>\n",
       "    </tr>\n",
       "    <tr>\n",
       "      <th>8</th>\n",
       "      <td>2016-09-09 16:52:04.789000</td>\n",
       "      <td>28.367580</td>\n",
       "      <td>-80.297911</td>\n",
       "      <td>NaN</td>\n",
       "    </tr>\n",
       "    <tr>\n",
       "      <th>9</th>\n",
       "      <td>2016-09-09 16:52:09.880830</td>\n",
       "      <td>28.367627</td>\n",
       "      <td>-80.298030</td>\n",
       "      <td>NaN</td>\n",
       "    </tr>\n",
       "    <tr>\n",
       "      <th>10</th>\n",
       "      <td>2016-09-09 16:52:14.965520</td>\n",
       "      <td>28.367675</td>\n",
       "      <td>-80.298148</td>\n",
       "      <td>NaN</td>\n",
       "    </tr>\n",
       "    <tr>\n",
       "      <th>11</th>\n",
       "      <td>2016-09-09 16:52:20.165530</td>\n",
       "      <td>28.367678</td>\n",
       "      <td>-80.298156</td>\n",
       "      <td>NaN</td>\n",
       "    </tr>\n",
       "    <tr>\n",
       "      <th>12</th>\n",
       "      <td>2016-09-09 16:52:25.372530</td>\n",
       "      <td>28.367681</td>\n",
       "      <td>-80.298163</td>\n",
       "      <td>NaN</td>\n",
       "    </tr>\n",
       "    <tr>\n",
       "      <th>13</th>\n",
       "      <td>2016-09-09 16:52:30.387050</td>\n",
       "      <td>28.367684</td>\n",
       "      <td>-80.298170</td>\n",
       "      <td>NaN</td>\n",
       "    </tr>\n",
       "    <tr>\n",
       "      <th>14</th>\n",
       "      <td>2016-09-09 16:52:33.376830</td>\n",
       "      <td>28.367686</td>\n",
       "      <td>-80.298175</td>\n",
       "      <td>NaN</td>\n",
       "    </tr>\n",
       "    <tr>\n",
       "      <th>15</th>\n",
       "      <td>2016-09-09 16:52:34.410100</td>\n",
       "      <td>28.367687</td>\n",
       "      <td>-80.298176</td>\n",
       "      <td>NaN</td>\n",
       "    </tr>\n",
       "    <tr>\n",
       "      <th>16</th>\n",
       "      <td>2016-09-09 16:52:35.397030</td>\n",
       "      <td>28.367687</td>\n",
       "      <td>-80.298178</td>\n",
       "      <td>NaN</td>\n",
       "    </tr>\n",
       "    <tr>\n",
       "      <th>17</th>\n",
       "      <td>2016-09-09 16:52:40.407710</td>\n",
       "      <td>28.367690</td>\n",
       "      <td>-80.298185</td>\n",
       "      <td>NaN</td>\n",
       "    </tr>\n",
       "    <tr>\n",
       "      <th>18</th>\n",
       "      <td>2016-09-09 16:52:43.895630</td>\n",
       "      <td>28.367692</td>\n",
       "      <td>-80.298189</td>\n",
       "      <td>0.26</td>\n",
       "    </tr>\n",
       "    <tr>\n",
       "      <th>19</th>\n",
       "      <td>2016-09-09 16:52:45.411380</td>\n",
       "      <td>28.367693</td>\n",
       "      <td>-80.298192</td>\n",
       "      <td>NaN</td>\n",
       "    </tr>\n",
       "  </tbody>\n",
       "</table>\n",
       "</div>"
      ],
      "text/plain": [
       "                            t          y          x  pressure\n",
       "0  2016-09-09 16:50:20.523320  28.366750 -80.295853      0.00\n",
       "1  2016-09-09 16:50:37.544100  28.366750 -80.295853       NaN\n",
       "2  2016-09-09 16:50:37.544100  28.366750 -80.295853       NaN\n",
       "3  2016-09-09 16:51:35.388820  28.367303 -80.297225       NaN\n",
       "4  2016-09-09 16:51:40.490420  28.367351 -80.297344       NaN\n",
       "5  2016-09-09 16:51:45.578460  28.367398 -80.297462       NaN\n",
       "6  2016-09-09 16:51:50.667110  28.367446 -80.297580       NaN\n",
       "7  2016-09-09 16:51:55.768830  28.367494 -80.297698       NaN\n",
       "8  2016-09-09 16:52:04.789000  28.367580 -80.297911       NaN\n",
       "9  2016-09-09 16:52:09.880830  28.367627 -80.298030       NaN\n",
       "10 2016-09-09 16:52:14.965520  28.367675 -80.298148       NaN\n",
       "11 2016-09-09 16:52:20.165530  28.367678 -80.298156       NaN\n",
       "12 2016-09-09 16:52:25.372530  28.367681 -80.298163       NaN\n",
       "13 2016-09-09 16:52:30.387050  28.367684 -80.298170       NaN\n",
       "14 2016-09-09 16:52:33.376830  28.367686 -80.298175       NaN\n",
       "15 2016-09-09 16:52:34.410100  28.367687 -80.298176       NaN\n",
       "16 2016-09-09 16:52:35.397030  28.367687 -80.298178       NaN\n",
       "17 2016-09-09 16:52:40.407710  28.367690 -80.298185       NaN\n",
       "18 2016-09-09 16:52:43.895630  28.367692 -80.298189      0.26\n",
       "19 2016-09-09 16:52:45.411380  28.367693 -80.298192       NaN"
      ]
     },
     "execution_count": 2,
     "metadata": {},
     "output_type": "execute_result"
    }
   ],
   "source": [
    "from pathlib import Path\n",
    "from gutils.slocum import SlocumReader\n",
    "\n",
    "ascii_folder = Path('.').absolute().parent.parent / 'gutils' / 'tests' / 'resources' / 'slocum'\n",
    "ascii_file = ascii_folder / 'usf_bass_2016_252_1_12_sbd.dat'\n",
    "slocum_data = SlocumReader(str(ascii_file))\n",
    "standard = slocum_data.standardize()\n",
    "standard.head((20))[[\n",
    "    't',\n",
    "    'y',\n",
    "    'x',\n",
    "    'pressure'\n",
    "]]"
   ]
  },
  {
   "cell_type": "markdown",
   "metadata": {},
   "source": [
    "## Assign profiles"
   ]
  },
  {
   "cell_type": "code",
   "execution_count": 3,
   "metadata": {},
   "outputs": [
    {
     "data": {
      "text/html": [
       "<div>\n",
       "<style scoped>\n",
       "    .dataframe tbody tr th:only-of-type {\n",
       "        vertical-align: middle;\n",
       "    }\n",
       "\n",
       "    .dataframe tbody tr th {\n",
       "        vertical-align: top;\n",
       "    }\n",
       "\n",
       "    .dataframe thead th {\n",
       "        text-align: right;\n",
       "    }\n",
       "</style>\n",
       "<table border=\"1\" class=\"dataframe\">\n",
       "  <thead>\n",
       "    <tr style=\"text-align: right;\">\n",
       "      <th></th>\n",
       "      <th>t</th>\n",
       "      <th>y</th>\n",
       "      <th>x</th>\n",
       "      <th>pressure</th>\n",
       "      <th>profile</th>\n",
       "    </tr>\n",
       "  </thead>\n",
       "  <tbody>\n",
       "    <tr>\n",
       "      <th>0</th>\n",
       "      <td>2016-09-09 16:50:20.523320</td>\n",
       "      <td>28.366750</td>\n",
       "      <td>-80.295853</td>\n",
       "      <td>0.00</td>\n",
       "      <td>NaN</td>\n",
       "    </tr>\n",
       "    <tr>\n",
       "      <th>1</th>\n",
       "      <td>2016-09-09 16:50:37.544100</td>\n",
       "      <td>28.366750</td>\n",
       "      <td>-80.295853</td>\n",
       "      <td>NaN</td>\n",
       "      <td>NaN</td>\n",
       "    </tr>\n",
       "    <tr>\n",
       "      <th>2</th>\n",
       "      <td>2016-09-09 16:50:37.544100</td>\n",
       "      <td>28.366750</td>\n",
       "      <td>-80.295853</td>\n",
       "      <td>NaN</td>\n",
       "      <td>NaN</td>\n",
       "    </tr>\n",
       "    <tr>\n",
       "      <th>3</th>\n",
       "      <td>2016-09-09 16:51:35.388820</td>\n",
       "      <td>28.367303</td>\n",
       "      <td>-80.297225</td>\n",
       "      <td>NaN</td>\n",
       "      <td>NaN</td>\n",
       "    </tr>\n",
       "    <tr>\n",
       "      <th>4</th>\n",
       "      <td>2016-09-09 16:51:40.490420</td>\n",
       "      <td>28.367351</td>\n",
       "      <td>-80.297344</td>\n",
       "      <td>NaN</td>\n",
       "      <td>NaN</td>\n",
       "    </tr>\n",
       "    <tr>\n",
       "      <th>5</th>\n",
       "      <td>2016-09-09 16:51:45.578460</td>\n",
       "      <td>28.367398</td>\n",
       "      <td>-80.297462</td>\n",
       "      <td>NaN</td>\n",
       "      <td>NaN</td>\n",
       "    </tr>\n",
       "    <tr>\n",
       "      <th>6</th>\n",
       "      <td>2016-09-09 16:51:50.667110</td>\n",
       "      <td>28.367446</td>\n",
       "      <td>-80.297580</td>\n",
       "      <td>NaN</td>\n",
       "      <td>NaN</td>\n",
       "    </tr>\n",
       "    <tr>\n",
       "      <th>7</th>\n",
       "      <td>2016-09-09 16:51:55.768830</td>\n",
       "      <td>28.367494</td>\n",
       "      <td>-80.297698</td>\n",
       "      <td>NaN</td>\n",
       "      <td>NaN</td>\n",
       "    </tr>\n",
       "    <tr>\n",
       "      <th>8</th>\n",
       "      <td>2016-09-09 16:52:04.789000</td>\n",
       "      <td>28.367580</td>\n",
       "      <td>-80.297911</td>\n",
       "      <td>NaN</td>\n",
       "      <td>1.0</td>\n",
       "    </tr>\n",
       "    <tr>\n",
       "      <th>9</th>\n",
       "      <td>2016-09-09 16:52:09.880830</td>\n",
       "      <td>28.367627</td>\n",
       "      <td>-80.298030</td>\n",
       "      <td>NaN</td>\n",
       "      <td>1.0</td>\n",
       "    </tr>\n",
       "    <tr>\n",
       "      <th>10</th>\n",
       "      <td>2016-09-09 16:52:14.965520</td>\n",
       "      <td>28.367675</td>\n",
       "      <td>-80.298148</td>\n",
       "      <td>NaN</td>\n",
       "      <td>1.0</td>\n",
       "    </tr>\n",
       "    <tr>\n",
       "      <th>11</th>\n",
       "      <td>2016-09-09 16:52:20.165530</td>\n",
       "      <td>28.367678</td>\n",
       "      <td>-80.298156</td>\n",
       "      <td>NaN</td>\n",
       "      <td>1.0</td>\n",
       "    </tr>\n",
       "    <tr>\n",
       "      <th>12</th>\n",
       "      <td>2016-09-09 16:52:25.372530</td>\n",
       "      <td>28.367681</td>\n",
       "      <td>-80.298163</td>\n",
       "      <td>NaN</td>\n",
       "      <td>1.0</td>\n",
       "    </tr>\n",
       "    <tr>\n",
       "      <th>13</th>\n",
       "      <td>2016-09-09 16:52:30.387050</td>\n",
       "      <td>28.367684</td>\n",
       "      <td>-80.298170</td>\n",
       "      <td>NaN</td>\n",
       "      <td>1.0</td>\n",
       "    </tr>\n",
       "    <tr>\n",
       "      <th>14</th>\n",
       "      <td>2016-09-09 16:52:33.376830</td>\n",
       "      <td>28.367686</td>\n",
       "      <td>-80.298175</td>\n",
       "      <td>NaN</td>\n",
       "      <td>1.0</td>\n",
       "    </tr>\n",
       "    <tr>\n",
       "      <th>15</th>\n",
       "      <td>2016-09-09 16:52:34.410100</td>\n",
       "      <td>28.367687</td>\n",
       "      <td>-80.298176</td>\n",
       "      <td>NaN</td>\n",
       "      <td>1.0</td>\n",
       "    </tr>\n",
       "    <tr>\n",
       "      <th>16</th>\n",
       "      <td>2016-09-09 16:52:35.397030</td>\n",
       "      <td>28.367687</td>\n",
       "      <td>-80.298178</td>\n",
       "      <td>NaN</td>\n",
       "      <td>1.0</td>\n",
       "    </tr>\n",
       "    <tr>\n",
       "      <th>17</th>\n",
       "      <td>2016-09-09 16:52:40.407710</td>\n",
       "      <td>28.367690</td>\n",
       "      <td>-80.298185</td>\n",
       "      <td>NaN</td>\n",
       "      <td>1.0</td>\n",
       "    </tr>\n",
       "    <tr>\n",
       "      <th>18</th>\n",
       "      <td>2016-09-09 16:52:43.895630</td>\n",
       "      <td>28.367692</td>\n",
       "      <td>-80.298189</td>\n",
       "      <td>0.26</td>\n",
       "      <td>1.0</td>\n",
       "    </tr>\n",
       "    <tr>\n",
       "      <th>19</th>\n",
       "      <td>2016-09-09 16:52:45.411380</td>\n",
       "      <td>28.367693</td>\n",
       "      <td>-80.298192</td>\n",
       "      <td>NaN</td>\n",
       "      <td>1.0</td>\n",
       "    </tr>\n",
       "  </tbody>\n",
       "</table>\n",
       "</div>"
      ],
      "text/plain": [
       "                            t          y          x  pressure  profile\n",
       "0  2016-09-09 16:50:20.523320  28.366750 -80.295853      0.00      NaN\n",
       "1  2016-09-09 16:50:37.544100  28.366750 -80.295853       NaN      NaN\n",
       "2  2016-09-09 16:50:37.544100  28.366750 -80.295853       NaN      NaN\n",
       "3  2016-09-09 16:51:35.388820  28.367303 -80.297225       NaN      NaN\n",
       "4  2016-09-09 16:51:40.490420  28.367351 -80.297344       NaN      NaN\n",
       "5  2016-09-09 16:51:45.578460  28.367398 -80.297462       NaN      NaN\n",
       "6  2016-09-09 16:51:50.667110  28.367446 -80.297580       NaN      NaN\n",
       "7  2016-09-09 16:51:55.768830  28.367494 -80.297698       NaN      NaN\n",
       "8  2016-09-09 16:52:04.789000  28.367580 -80.297911       NaN      1.0\n",
       "9  2016-09-09 16:52:09.880830  28.367627 -80.298030       NaN      1.0\n",
       "10 2016-09-09 16:52:14.965520  28.367675 -80.298148       NaN      1.0\n",
       "11 2016-09-09 16:52:20.165530  28.367678 -80.298156       NaN      1.0\n",
       "12 2016-09-09 16:52:25.372530  28.367681 -80.298163       NaN      1.0\n",
       "13 2016-09-09 16:52:30.387050  28.367684 -80.298170       NaN      1.0\n",
       "14 2016-09-09 16:52:33.376830  28.367686 -80.298175       NaN      1.0\n",
       "15 2016-09-09 16:52:34.410100  28.367687 -80.298176       NaN      1.0\n",
       "16 2016-09-09 16:52:35.397030  28.367687 -80.298178       NaN      1.0\n",
       "17 2016-09-09 16:52:40.407710  28.367690 -80.298185       NaN      1.0\n",
       "18 2016-09-09 16:52:43.895630  28.367692 -80.298189      0.26      1.0\n",
       "19 2016-09-09 16:52:45.411380  28.367693 -80.298192       NaN      1.0"
      ]
     },
     "execution_count": 3,
     "metadata": {},
     "output_type": "execute_result"
    }
   ],
   "source": [
    "from gutils.yo import assign_profiles\n",
    "\n",
    "# Defaults to a time interval of 2\n",
    "profiled_1 = assign_profiles(standard, tsint=20)\n",
    "\n",
    "# Adds a 'profile' column\n",
    "profiled_1.head((20))[[\n",
    "    't',\n",
    "    'y',\n",
    "    'x',\n",
    "    'pressure',\n",
    "    'profile'\n",
    "]]"
   ]
  },
  {
   "cell_type": "code",
   "execution_count": 4,
   "metadata": {},
   "outputs": [
    {
     "name": "stdout",
     "output_type": "stream",
     "text": [
      "Profiles :  12\n"
     ]
    },
    {
     "data": {
      "image/png": "[encoded data removed]",
      "text/plain": [
       "<matplotlib.figure.Figure at 0x7f03d146cb70>"
      ]
     },
     "metadata": {},
     "output_type": "display_data"
    }
   ],
   "source": [
    "print('Profiles : ', len(profiled_1.profile.unique()))\n",
    "plot_profiles(profiled_1)"
   ]
  },
  {
   "cell_type": "code",
   "execution_count": 5,
   "metadata": {},
   "outputs": [
    {
     "name": "stdout",
     "output_type": "stream",
     "text": [
      "Profiles :  11\n"
     ]
    },
    {
     "data": {
      "image/png": "[encoded data removed]",
      "text/plain": [
       "<matplotlib.figure.Figure at 0x7f0412e496d8>"
      ]
     },
     "metadata": {},
     "output_type": "display_data"
    }
   ],
   "source": [
    "# Shorten the time window for a profile to 2 seconds\n",
    "profiled_2 = assign_profiles(standard, tsint=2)\n",
    "print('Profiles : ', len(profiled_2.profile.unique()))\n",
    "plot_profiles(profiled_2)"
   ]
  },
  {
   "cell_type": "markdown",
   "metadata": {},
   "source": [
    "## Filter profiles"
   ]
  },
  {
   "cell_type": "markdown",
   "metadata": {},
   "source": [
    "### Default filters"
   ]
  },
  {
   "cell_type": "code",
   "execution_count": 6,
   "metadata": {},
   "outputs": [
    {
     "name": "stdout",
     "output_type": "stream",
     "text": [
      "Filtered out 5 profiles\n",
      "Profiles :  6\n"
     ]
    },
    {
     "data": {
      "image/png": "[encoded data removed]",
      "text/plain": [
       "<matplotlib.figure.Figure at 0x7f03cf206240>"
      ]
     },
     "metadata": {},
     "output_type": "display_data"
    }
   ],
   "source": [
    "from gutils.filters import default_filter\n",
    "\n",
    "# Assign default profiles\n",
    "profiled_def = assign_profiles(standard)\n",
    "\n",
    "# Default filter\n",
    "filtered_def, count = default_filter(profiled_def)\n",
    "\n",
    "print(\"Filtered out {} profiles\".format(count))\n",
    "print('Profiles : ', len(filtered_def.profile.unique()))\n",
    "plot_profiles(filtered_def)"
   ]
  },
  {
   "cell_type": "markdown",
   "metadata": {},
   "source": [
    "### Specify filters\n",
    "\n",
    "Exclude everything under 20m of depth"
   ]
  },
  {
   "cell_type": "code",
   "execution_count": 7,
   "metadata": {},
   "outputs": [
    {
     "name": "stdout",
     "output_type": "stream",
     "text": [
      "['Filtered 7/11 profiles',\n",
      " 'Depth (2m): 3',\n",
      " 'Points (20): 2',\n",
      " 'Time (20s): 0',\n",
      " 'Distance (18m): 2']\n",
      "Profiles :  4\n"
     ]
    },
    {
     "data": {
      "image/png": "[encoded data removed]",
      "text/plain": [
       "<matplotlib.figure.Figure at 0x7f03cf340da0>"
      ]
     },
     "metadata": {},
     "output_type": "display_data"
    }
   ],
   "source": [
    "from gutils.filters import (\n",
    "    filter_profile_depth,\n",
    "    filter_profile_timeperiod,\n",
    "    filter_profile_distance,\n",
    "    filter_profile_number_of_points,\n",
    ")\n",
    "\n",
    "profiled_spec = assign_profiles(standard)\n",
    "original_profiles = len(profiled_spec.profile.unique())\n",
    "\n",
    "# Filter by Minimum Depth (meters)\n",
    "below_depth = 2\n",
    "filtered_spec, rm_depth = filter_profile_depth(profiled_spec, below=below_depth)\n",
    "\n",
    "# Filter by Numer of Points\n",
    "num_points = 20\n",
    "filtered_spec, rm_points = filter_profile_number_of_points(filtered_spec, points_condition=num_points)\n",
    "\n",
    "# Filter by Lengh of Profile (seconds)\n",
    "seconds = 20\n",
    "filtered_spec, rm_time = filter_profile_timeperiod(filtered_spec, timespan_condition=seconds)\n",
    "\n",
    "# Filter by Vertical Distance\n",
    "distance = 18\n",
    "filtered_spec, rm_distance = filter_profile_distance(filtered_spec, distance_condition=distance)\n",
    "\n",
    "total_filtered = rm_depth + rm_points + rm_time + rm_distance\n",
    "pprint([\n",
    "    'Filtered {}/{} profiles'.format(total_filtered, original_profiles),\n",
    "    'Depth ({}m): {}'.format(below_depth, rm_depth),\n",
    "    'Points ({}): {}'.format(num_points, rm_points),\n",
    "    'Time ({}s): {}'.format(seconds, rm_time),\n",
    "    'Distance ({}m): {}'.format(distance, rm_distance),\n",
    "])\n",
    "print('Profiles : ', len(filtered_spec.profile.unique()))\n",
    "plot_profiles(filtered_spec)"
   ]
  },
  {
   "cell_type": "markdown",
   "metadata": {},
   "source": [
    "# Play with the data"
   ]
  },
  {
   "cell_type": "code",
   "execution_count": 8,
   "metadata": {
    "collapsed": true
   },
   "outputs": [],
   "source": [
    "# Assign default profiles\n",
    "profiled_play = assign_profiles(standard)\n",
    "\n",
    "# Default filter\n",
    "play, count = default_filter(profiled_play)"
   ]
  },
  {
   "cell_type": "markdown",
   "metadata": {},
   "source": [
    "###  Min/Mean/Max temperature in each profile"
   ]
  },
  {
   "cell_type": "code",
   "execution_count": 9,
   "metadata": {},
   "outputs": [
    {
     "data": {
      "text/html": [
       "<div>\n",
       "<style scoped>\n",
       "    .dataframe tbody tr th:only-of-type {\n",
       "        vertical-align: middle;\n",
       "    }\n",
       "\n",
       "    .dataframe tbody tr th {\n",
       "        vertical-align: top;\n",
       "    }\n",
       "\n",
       "    .dataframe thead tr th {\n",
       "        text-align: left;\n",
       "    }\n",
       "\n",
       "    .dataframe thead tr:last-of-type th {\n",
       "        text-align: right;\n",
       "    }\n",
       "</style>\n",
       "<table border=\"1\" class=\"dataframe\">\n",
       "  <thead>\n",
       "    <tr>\n",
       "      <th></th>\n",
       "      <th colspan=\"3\" halign=\"left\">temperature</th>\n",
       "    </tr>\n",
       "    <tr>\n",
       "      <th></th>\n",
       "      <th>mean</th>\n",
       "      <th>amax</th>\n",
       "      <th>amin</th>\n",
       "    </tr>\n",
       "    <tr>\n",
       "      <th>profile</th>\n",
       "      <th></th>\n",
       "      <th></th>\n",
       "      <th></th>\n",
       "    </tr>\n",
       "  </thead>\n",
       "  <tbody>\n",
       "    <tr>\n",
       "      <th>0.0</th>\n",
       "      <td>27.336434</td>\n",
       "      <td>28.2167</td>\n",
       "      <td>26.2488</td>\n",
       "    </tr>\n",
       "    <tr>\n",
       "      <th>1.0</th>\n",
       "      <td>27.096678</td>\n",
       "      <td>27.7972</td>\n",
       "      <td>26.1661</td>\n",
       "    </tr>\n",
       "    <tr>\n",
       "      <th>2.0</th>\n",
       "      <td>27.300038</td>\n",
       "      <td>28.1245</td>\n",
       "      <td>26.0981</td>\n",
       "    </tr>\n",
       "    <tr>\n",
       "      <th>3.0</th>\n",
       "      <td>27.118583</td>\n",
       "      <td>27.7984</td>\n",
       "      <td>26.0782</td>\n",
       "    </tr>\n",
       "    <tr>\n",
       "      <th>4.0</th>\n",
       "      <td>27.451911</td>\n",
       "      <td>28.0767</td>\n",
       "      <td>27.1214</td>\n",
       "    </tr>\n",
       "    <tr>\n",
       "      <th>5.0</th>\n",
       "      <td>27.440197</td>\n",
       "      <td>28.3054</td>\n",
       "      <td>27.1198</td>\n",
       "    </tr>\n",
       "  </tbody>\n",
       "</table>\n",
       "</div>"
      ],
      "text/plain": [
       "        temperature                  \n",
       "               mean     amax     amin\n",
       "profile                              \n",
       "0.0       27.336434  28.2167  26.2488\n",
       "1.0       27.096678  27.7972  26.1661\n",
       "2.0       27.300038  28.1245  26.0981\n",
       "3.0       27.118583  27.7984  26.0782\n",
       "4.0       27.451911  28.0767  27.1214\n",
       "5.0       27.440197  28.3054  27.1198"
      ]
     },
     "execution_count": 9,
     "metadata": {},
     "output_type": "execute_result"
    }
   ],
   "source": [
    "import numpy as np\n",
    "\n",
    "profs = play.groupby('profile')\n",
    "profs.agg({'temperature': [np.mean, np.max, np.min]})"
   ]
  },
  {
   "cell_type": "markdown",
   "metadata": {},
   "source": [
    "### Get a Geometry object"
   ]
  },
  {
   "cell_type": "code",
   "execution_count": 10,
   "metadata": {},
   "outputs": [
    {
     "data": {
      "image/svg+xml": [
       "<svg xmlns=\"http://www.w3.org/2000/svg\" xmlns:xlink=\"http://www.w3.org/1999/xlink\" width=\"100.0\" height=\"100.0\" viewBox=\"-80.29836922344113 28.36757288466698 0.0014394468822587214 0.003165032910434462\" preserveAspectRatio=\"xMinYMin meet\"><g transform=\"matrix(1,0,0,-1,0,56.7383108022444)\"><polyline fill=\"none\" stroke=\"#66cc99\" stroke-width=\"6.330065820868925e-05\" points=\"-80.29818454054055,28.367690108108107 -80.29818875675676,28.36769185135135 -80.29819156756757,28.367693013513513 -80.29819437837838,28.367694175675673 -80.2981985945946,28.36769591891892 -80.29820140540541,28.36769708108108 -80.2982028108108,28.36769766216216 -80.29820562162162,28.367698824324325 -80.29820702702703,28.367699405405403 -80.29820983783785,28.367700567567567 -80.29821124324324,28.36770114864865 -80.29821405405406,28.36770231081081 -80.29821827027027,28.367704054054055 -80.29822108108108,28.367705216216216 -80.29822529729731,28.367706959459458 -80.2982267027027,28.36770754054054 -80.2982281081081,28.36770812162162 -80.29823232432433,28.367709864864864 -80.29823232432433,28.367709864864864 -80.29823654054054,28.36771160810811 -80.29823935135136,28.36771277027027 -80.29824356756757,28.367714513513512 -80.29824637837838,28.367715675675676 -80.29824637837838,28.367715675675676 -80.298252,28.367718 -80.298252,28.367718 -80.29825100000001,28.367720408874803 -80.298249,28.367725226624405 -80.298247,28.36773004437401 -80.29824400000001,28.367737270998415 -80.298243,28.367739679873218 -80.29824,28.367746906497622 -80.29823800000001,28.367751724247228 -80.298236,28.36775654199683 -80.29823300000001,28.367763768621238 -80.29823300000001,28.367763768621238 -80.298232,28.367766177496037 -80.298229,28.367773404120445 -80.29822800000001,28.367775812995244 -80.298225,28.367783039619653 -80.298224,28.367785448494452 -80.298221,28.36779267511886 -80.298219,28.367797492868462 -80.298218,28.367799901743265 -80.298215,28.36780712836767 -80.298214,28.367809537242472 -80.298213,28.367811946117275 -80.29821000000001,28.36781917274168 -80.29821000000001,28.36781917274168 -80.29820600000001,28.367828808240887 -80.29820600000001,28.367828808240887 -80.298203,28.36783603486529 -80.298201,28.367840852614897 -80.298201,28.367840852614897 -80.298196,28.367852896988907 -80.298196,28.367852896988907 -80.298195,28.36785530586371 -80.29819400000001,28.36785771473851 -80.298192,28.367862532488115 -80.298192,28.367862532488115 -80.29818900000001,28.36786975911252 -80.298187,28.367874576862125 -80.298185,28.367879394611727 -80.29818300000001,28.367884212361332 -80.29818,28.367891438985737 -80.29817800000001,28.367896256735342 -80.298176,28.367901074484944 -80.298174,28.36790589223455 -80.298173,28.36790830110935 -80.29817100000001,28.367913118858954 -80.298169,28.367917936608556 -80.29816600000001,28.367925163232965 -80.298164,28.367929980982566 -80.298164,28.367929980982566 -80.29816000000001,28.367939616481774 -80.29816000000001,28.367939616481774 -80.298158,28.36794443423138 -80.298157,28.367946843106182 -80.298156,28.36794925198098 -80.29815500000001,28.367951660855784 -80.298152,28.36795888748019 -80.29815,28.367963705229794 -80.29814900000001,28.367966114104597 -80.298147,28.3679709318542 -80.298146,28.367973340729 -80.298142,28.36798297622821 -80.298141,28.36798538510301 -80.29813800000001,28.367992611727416 -80.298136,28.367997429477022 -80.298135,28.36799983835182 -80.29813200000001,28.36800706497623 -80.29813,28.36801188272583 -80.298128,28.368016700475437 -80.29812700000001,28.368019109350236 -80.298124,28.368026335974644 -80.298123,28.368028744849447 -80.298122,28.368031153724246 -80.29812,28.36803597147385 -80.298119,28.368038380348654 -80.298118,28.368040789223453 -80.298117,28.368043198098256 -80.298113,28.368052833597464 -80.298113,28.368052833597464 -80.29811000000001,28.368060060221868 -80.29810900000001,28.36806246909667 -80.298106,28.36806969572108 -80.29810400000001,28.36807451347068 -80.298102,28.368079331220287 -80.2981,28.36808414896989 -80.2981,28.36808414896989 -80.298097,28.368091375594293 -80.298095,28.3680961933439 -80.29809300000001,28.3681010110935 -80.29809,28.36810823771791 -80.298088,28.36811305546751 -80.298086,28.368117873217116 -80.298084,28.368122690966718 -80.29808100000001,28.368129917591126 -80.29808100000001,28.368129917591126 -80.29808,28.368132326465926 -80.29807600000001,28.368141961965133 -80.29807600000001,28.368141961965133 -80.298073,28.36814918858954 -80.298072,28.36815159746434 -80.298068,28.36816123296355 -80.298067,28.36816364183835 -80.298064,28.36817086846276 -80.298063,28.368173277337558 -80.298063,28.368173277337558 -80.298062,28.36817568621236 -80.29805900000001,28.368182912836765 -80.298058,28.368185321711568 -80.298057,28.36818773058637 -80.29805300000001,28.368197366085578 -80.298052,28.36819977496038 -80.29805,28.368204592709983 -80.298049,28.368207001584786 -80.29804800000001,28.36820941045959 -80.298045,28.368216637083993 -80.298044,28.368219045958796 -80.298041,28.3682262725832 -80.29804,28.368228681458003 -80.298038,28.368233499207605 -80.298035,28.368240725832013 -80.298034,28.368243134706816 -80.29803,28.368252770206023 -80.29803,28.368252770206023 -80.29802600000001,28.36826240570523 -80.29802600000001,28.36826240570523 -80.298023,28.368269632329635 -80.298021,28.368274450079237 -80.298021,28.368274450079237 -80.298016,28.368286494453248 -80.298016,28.368286494453248 -80.29801400000001,28.368291312202853 -80.298008,28.368305765451662 -80.298007,28.368308174326465 -80.298007,28.368308174326465 -80.298004,28.36831540095087 -80.298002,28.368320218700475 -80.298002,28.368320218700475 -80.298,28.368325036450077 -80.297998,28.368329854199683 -80.297996,28.368334671949288 -80.297994,28.36833948969889 -80.297993,28.368341898573693 -80.29799200000001,28.368344307448496 -80.297988,28.368353942947703 -80.297988,28.368353942947703 -80.29798600000001,28.368358760697305 -80.297984,28.36836357844691 -80.297982,28.368368396196512 -80.29798000000001,28.368373213946118 -80.297979,28.36837562282092 -80.297976,28.368382849445325 -80.297974,28.368387667194927 -80.297974,28.368387667194927 -80.297972,28.368392484944533 -80.29797,28.368397302694135 -80.29796900000001,28.368399711568937 -80.297966,28.368406938193342 -80.297965,28.368409347068145 -80.29796400000001,28.368411755942947 -80.297961,28.368418982567352 -80.297961,28.368418982567352 -80.29795800000001,28.36842620919176 -80.297956,28.368431026941362 -80.297956,28.368431026941362 -80.29795200000001,28.36844066244057 -80.297951,28.368443071315372 -80.297948,28.368450297939777 -80.29794700000001,28.36845270681458 -80.297944,28.368459933438984 -80.297942,28.36846475118859 -80.29794,28.368469568938192 -80.297938,28.368474386687797 -80.297938,28.368474386687797 -80.297934,28.368484022187005 -80.297933,28.368486431061807 -80.297931,28.36849124881141 -80.297928,28.368498475435814 -80.297928,28.368498475435814 -80.29792400000001,28.368508110935025 -80.29792400000001,28.368508110935025 -80.297922,28.368512928684627 -80.29791900000001,28.36852015530903 -80.29791900000001,28.36852015530903 -80.297916,28.36852738193344 -80.297915,28.36852979080824 -80.297912,28.368537017432647 -80.29791,28.36854183518225 -80.297908,28.368546652931855 -80.297905,28.36855387955626 -80.297904,28.368556288431062 -80.297901,28.368563515055467 -80.2979,28.36856592393027 -80.29789600000001,28.368575559429477 -80.29789600000001,28.368575559429477 -80.297892,28.368585194928684 -80.297891,28.368587603803487 -80.297888,28.36859483042789 -80.297887,28.368597239302694 -80.297884,28.3686044659271 -80.297882,28.368609283676705 -80.29788,28.368614101426306 -80.297878,28.368618919175912 -80.297876,28.368623736925514 -80.297873,28.368630963549922 -80.297872,28.36863337242472 -80.29786800000001,28.36864300792393 -80.29786800000001,28.36864300792393 -80.297864,28.368652643423136 -80.297864,28.368652643423136 -80.29786,28.368662278922343 -80.297859,28.368664687797146 -80.297856,28.36867191442155 -80.297855,28.368674323296354 -80.297852,28.368681549920762 -80.29785,28.368686367670364 -80.297848,28.36869118541997 -80.297842,28.36870563866878 -80.297841,28.36870804754358 -80.29784000000001,28.368710456418384 -80.29784000000001,28.368710456418384 -80.297839,28.368712865293183 -80.297835,28.368722500792394 -80.297834,28.368724909667193 -80.297832,28.3687297274168 -80.29783,28.3687345451664 -80.29782900000001,28.368736954041204 -80.297825,28.36874658954041 -80.297824,28.368748998415214 -80.297822,28.368753816164816 -80.297821,28.36875622503962 -80.29782,28.36875863391442 -80.29782,28.36875863391442 -80.297817,28.368765860538826 -80.297815,28.36877067828843 -80.29781200000001,28.368777904912836 -80.29781,28.36878272266244 -80.297809,28.36878513153724 -80.297806,28.36879235816165 -80.297804,28.36879717591125 -80.297803,28.368799584786053 -80.297802,28.368801993660856 -80.297799,28.36880922028526 -80.297798,28.368811629160064 -80.29779500000001,28.36881885578447 -80.29779500000001,28.36881885578447 -80.297791,28.368828491283676 -80.29779,28.36883090015848 -80.297786,28.368840535657686 -80.297786,28.368840535657686 -80.29778400000001,28.368845353407288 -80.297783,28.36884776228209 -80.297782,28.368850171156893 -80.297781,28.368852580031696 -80.297778,28.3688598066561 -80.297776,28.368864624405706 -80.297775,28.368867033280505 -80.297772,28.368874259904914 -80.29777,28.368879077654515 -80.29776700000001,28.36888630427892 -80.297766,28.368888713153723 -80.297765,28.368891122028526 -80.297763,28.36889593977813 -80.297762,28.36889834865293 -80.29776,28.368903166402536 -80.297758,28.368907984152138 -80.297756,28.368912801901743 -80.297753,28.368920028526148 -80.297752,28.36892243740095 -80.297749,28.368929664025355 -80.297748,28.368932072900158 -80.297747,28.36893448177496 -80.297745,28.368939299524563 -80.297744,28.368941708399365 -80.29774,28.368951343898573 -80.297739,28.368953752773375 -80.297736,28.36896097939778 -80.297735,28.368963388272583 -80.297732,28.368970614896988 -80.29773,28.368975432646593 -80.297729,28.368977841521396 -80.297726,28.3689850681458 -80.297724,28.368989885895402 -80.297721,28.36899711251981 -80.29772,28.36899952139461 -80.297716,28.369009156893817 -80.297716,28.369009156893817 -80.297712,28.369018792393025 -80.297712,28.369018792393025 -80.29771,28.36902361014263 -80.297709,28.369026019017433 -80.297707,28.369030836767035 -80.297704,28.369038063391443 -80.297702,28.369042881141045 -80.297702,28.369042881141045 -80.297698,28.369052516640252 -80.297698,28.369052516640252 -80.297694,28.36906215213946 -80.297693,28.369064561014262 -80.297691,28.369069378763868 -80.297689,28.36907419651347 -80.297686,28.369081423137875 -80.297684,28.36908624088748 -80.297682,28.369091058637082 -80.297679,28.36909828526149 -80.297678,28.36910069413629 -80.297675,28.369107920760698 -80.297674,28.3691103296355 -80.297671,28.369117556259905 -80.29767,28.369119965134708 -80.29767,28.369119965134708 -80.297668,28.36912478288431 -80.297666,28.369129600633915 -80.297664,28.369134418383517 -80.297661,28.36914164500792 -80.297661,28.36914164500792 -80.297657,28.369151280507133 -80.297656,28.369153689381932 -80.297652,28.36916332488114 -80.297652,28.36916332488114 -80.297648,28.369172960380347 -80.297647,28.36917536925515 -80.297646,28.369177778129952 -80.297643,28.369185004754357 -80.297642,28.36918741362916 -80.297639,28.369194640253564 -80.297638,28.369197049128367 -80.297634,28.369206684627574 -80.297633,28.369209093502377 -80.297633,28.369209093502377 -80.297632,28.36921150237718 -80.29763,28.36921632012678 -80.297629,28.369218729001584 -80.297626,28.36922595562599 -80.297624,28.369230773375595 -80.297622,28.369235591125197 -80.297619,28.369242817749605 -80.297618,28.369245226624404 -80.297615,28.369252453248812 -80.297614,28.36925486212361 -80.297611,28.36926208874802 -80.29761,28.36926449762282 -80.297606,28.369274133122026 -80.297606,28.369274133122026 -80.29760399999999,28.36927895087163 -80.297601,28.369286177496036 -80.297601,28.369286177496036 -80.297596,28.369298221870046 -80.297596,28.369298221870046 -80.297595,28.36930063074485 -80.297594,28.369303039619652 -80.297592,28.369307857369254 -80.29759,28.36931267511886 -80.297587,28.369319901743264 -80.297586,28.369322310618067 -80.297583,28.36932953724247 -80.297583,28.36932953724247 -80.297578,28.36934158161648 -80.297578,28.36934158161648 -80.29757599999999,28.369346399366083 -80.297574,28.36935121711569 -80.297573,28.36935362599049 -80.29757,28.369360852614896 -80.297569,28.3693632614897 -80.297567,28.3693680792393 -80.297564,28.36937530586371 -80.297563,28.36937771473851 -80.29755899999999,28.369387350237716 -80.297558,28.36938975911252 -80.297557,28.36939216798732 -80.297556,28.369394576862124 -80.297555,28.369396985736923 -80.297552,28.36940421236133 -80.29755,28.369409030110933 -80.29755,28.369409030110933 -80.297547,28.36941625673534 -80.297545,28.369421074484944 -80.29754199999999,28.369428301109348 -80.297541,28.36943070998415 -80.297539,28.369435527733756 -80.297536,28.36944275435816 -80.297536,28.36944275435816 -80.297532,28.36945238985737 -80.29753099999999,28.36945479873217 -80.297528,28.369462025356576 -80.297527,28.36946443423138 -80.297523,28.369474069730586 -80.297522,28.36947647860539 -80.29751999999999,28.36948129635499 -80.297517,28.369488522979395 -80.297516,28.369490931854198 -80.29751399999999,28.369495749603804 -80.297513,28.369498158478603 -80.29751,28.36950538510301 -80.297508,28.369510202852613 -80.297506,28.36951502060222 -80.29750299999999,28.369522247226623 -80.297502,28.369524656101426 -80.297499,28.36953188272583 -80.297498,28.369534291600633 -80.297494,28.36954392709984 -80.297494,28.36954392709984 -80.29749,28.369553562599048 -80.29749,28.369553562599048 -80.297488,28.369558380348654 -80.297485,28.369565606973058 -80.297484,28.36956801584786 -80.29748,28.36957765134707 -80.29748,28.36957765134707 -80.297476,28.369587286846276 -80.297476,28.369587286846276 -80.297472,28.369596922345483 -80.297471,28.369599331220286 -80.297468,28.36960655784469 -80.297467,28.369608966719493 -80.297464,28.369616193343898 -80.297462,28.3696210110935 -80.29746,28.369625828843105 -80.297457,28.36963305546751 -80.297457,28.36963305546751 -80.297453,28.369642690966717 -80.29745199999999,28.36964509984152 -80.29745,28.369649917591126 -80.297448,28.369654735340728 -80.297446,28.369659553090333 -80.297444,28.369664370839935 -80.297443,28.369666779714738 -80.297439,28.369676415213945 -80.297438,28.369678824088748 -80.297436,28.36968364183835 -80.297434,28.369688459587955 -80.297432,28.369693277337557 -80.29742999999999,28.369698095087163 -80.297429,28.369700503961965 -80.297425,28.369710139461173 -80.29742399999999,28.369712548335972 -80.297421,28.36971977496038 -80.29742,28.369722183835183 -80.297416,28.36973181933439 -80.297416,28.36973181933439 -80.29741299999999,28.369739045958795 -80.297411,28.369743863708397 -80.297409,28.369748681458002 -80.29740699999999,28.369753499207604 -80.297404,28.369760725832013 -80.29740199999999,28.369765543581615 -80.29740199999999,28.369765543581615 -80.297399,28.369772770206023 -80.297397,28.369777587955625 -80.297394,28.36978481458003 -80.297393,28.369787223454832 -80.29739099999999,28.369792041204438 -80.297388,28.369799267828842 -80.297386,28.369804085578448 -80.297384,28.36980890332805 -80.297384,28.36980890332805 -80.297381,28.369816129952454 -80.297376,28.369828174326464 -80.297375,28.369830583201267 -80.29737399999999,28.36983299207607 -80.297373,28.36983540095087 -80.297369,28.369845036450076 -80.29736799999999,28.36984744532488 -80.297366,28.369852263074485 -80.297364,28.369857080824087 -80.297364,28.369857080824087 -80.297361,28.369864307448495 -80.297359,28.369869125198097 -80.29735699999999,28.369873942947702 -80.297354,28.369881169572107 -80.297352,28.36988598732171 -80.297349,28.369893213946117 -80.297348,28.36989562282092 -80.29734499999999,28.369902849445324 -80.297344,28.369905258320127 -80.29733999999999,28.369914893819335 -80.297339,28.369917302694134 -80.297338,28.369919711568937 -80.297335,28.36992693819334 -80.29733399999999,28.369929347068144 -80.297331,28.369936573692552 -80.29733,28.36993898256735 -80.297326,28.36994861806656 -80.297325,28.36995102694136 -80.297322,28.369958253565766 -80.29732,28.36996307131537 -80.29732,28.36996307131537 -80.297319,28.369965480190174 -80.29731699999999,28.369970297939776 -80.297316,28.36997270681458 -80.29731199999999,28.369982342313786 -80.297311,28.36998475118859 -80.297308,28.369991977812994 -80.297307,28.369994386687797 -80.297304,28.3700016133122 -80.297302,28.370006431061807 -80.297302,28.370006431061807 -80.29729999999999,28.37001124881141 -80.297297,28.370018475435813 -80.297297,28.370018475435813 -80.297293,28.370028110935024 -80.297292,28.370030519809823 -80.297288,28.37004015530903 -80.297288,28.37004015530903 -80.29728399999999,28.37004979080824 -80.29728399999999,28.37004979080824 -80.297282,28.370054608557844 -80.297281,28.370057017432647 -80.297279,28.37006183518225 -80.297277,28.370066652931854 -80.297274,28.37007387955626 -80.29727199999999,28.370078697305864 -80.29727,28.370083515055466 -80.297268,28.37008833280507 -80.297266,28.370093150554673 -80.297265,28.370095559429476 -80.297263,28.370100377179078 -80.29726,28.370107603803486 -80.297258,28.370112421553088 -80.29725599999999,28.370117239302694 -80.29725599999999,28.370117239302694 -80.297252,28.3701268748019 -80.297251,28.370129283676704 -80.297248,28.37013651030111 -80.297247,28.37013891917591 -80.29724499999999,28.370143736925513 -80.29724399999999,28.370146145800316 -80.297242,28.37015096354992 -80.29724,28.370155781299523 -80.297237,28.370163007923928 -80.297236,28.37016541679873 -80.29723299999999,28.370172643423135 -80.297232,28.370175052297938 -80.29723,28.370179870047544 -80.29722799999999,28.370184687797146 -80.29722699999999,28.37018709667195 -80.297225,28.37019191442155 -80.297224,28.370194323296353 -80.297223,28.370196732171156 -80.297219,28.370206367670363 -80.297218,28.370208776545166 -80.297214,28.370218412044373 -80.297214,28.370218412044373 -80.297212,28.370223229793975 -80.29720999999999,28.37022804754358 -80.29720999999999,28.37022804754358 -80.297207,28.370235274167985 -80.297206,28.370237683042788 -80.29720499999999,28.37024009191759 -80.297202,28.370247318541995 -80.29719999999999,28.3702521362916 -80.297198,28.370256954041203 -80.297196,28.37026177179081 -80.29719399999999,28.37026658954041 -80.297192,28.370271407290016 -80.297191,28.370273816164815 -80.29718899999999,28.37027863391442 -80.297187,28.370283451664026 -80.297187,28.370283451664026 -80.297184,28.37029067828843 -80.29718199999999,28.370295496038032 -80.29718,28.370300313787638 -80.29717699999999,28.370307540412043 -80.297176,28.370309949286845 -80.297174,28.370314767036447 -80.297173,28.37031717591125 -80.29717099999999,28.370321993660855 -80.297168,28.37032922028526 -80.297167,28.370331629160063 -80.29716599999999,28.370334038034866 -80.297164,28.370338855784468 -80.297162,28.370343673534073 -80.297156,28.370358126782882 -80.29715399999999,28.370362944532488 -80.297153,28.370365353407287 -80.29714899999999,28.370374988906498 -80.29714899999999,28.370374988906498 -80.29714399999999,28.370387033280505 -80.29714399999999,28.370387033280505 -80.297142,28.37039185103011 -80.29714,28.370396668779712 -80.297139,28.370399077654515 -80.297135,28.370408713153722 -80.297134,28.370411122028525 -80.29713199999999,28.37041593977813 -80.297131,28.37041834865293 -80.297129,28.370423166402535 -80.29712599999999,28.37043039302694 -80.297124,28.370435210776545 -80.297122,28.370440028526147 -80.29712099999999,28.37044243740095 -80.29711999999999,28.370444846275753 -80.297117,28.370452072900157 -80.297117,28.370452072900157 -80.297112,28.370464117274167 -80.297112,28.370464117274167 -80.29710999999999,28.37046893502377 -80.297107,28.370476161648178 -80.297107,28.370476161648178 -80.29710299999999,28.370485797147385 -80.297102,28.370488206022184 -80.2971,28.37049302377179 -80.29709799999999,28.370497841521395 -80.29709799999999,28.370497841521395 -80.297095,28.3705050681458 -80.297094,28.370507477020602 -80.29709199999999,28.370512294770204 -80.29709,28.37051711251981 -80.297089,28.37051952139461 -80.29708799999999,28.370521930269412 -80.297085,28.370529156893816 -80.297084,28.37053156576862 -80.29708199999999,28.370536383518225 -80.29708,28.370541201267827 -80.29708,28.370541201267827 -80.297078,28.370546019017432 -80.29707499999999,28.370553245641837 -80.297074,28.37055565451664 -80.297072,28.37056047226624 -80.29707099999999,28.370562881141044 -80.29706999999999,28.370565290015847 -80.297068,28.37057010776545 -80.297066,28.370574925515054 -80.29706399999999,28.370579743264656 -80.297062,28.37058456101426 -80.297061,28.370586969889064 -80.29705999999999,28.370589378763867 -80.29705799999999,28.37059419651347 -80.297057,28.370596605388272 -80.29705399999999,28.370603832012677 -80.297052,28.370608649762282 -80.297052,28.370608649762282 -80.29705,28.370613467511884 -80.29704699999999,28.37062069413629 -80.29704699999999,28.37062069413629\" opacity=\"0.8\" /></g></svg>"
      ],
      "text/plain": [
       "<shapely.geometry.linestring.LineString at 0x7f03cf04bd68>"
      ]
     },
     "execution_count": 10,
     "metadata": {},
     "output_type": "execute_result"
    }
   ],
   "source": [
    "from shapely.geometry import LineString\n",
    "\n",
    "LineString(zip(play.x, play.y))"
   ]
  }
 ],
 "metadata": {
  "kernelspec": {
   "display_name": "Python 3",
   "language": "python",
   "name": "python3"
  },
  "language_info": {
   "codemirror_mode": {
    "name": "ipython",
    "version": 3
   },
   "file_extension": ".py",
   "mimetype": "text/x-python",
   "name": "python",
   "nbconvert_exporter": "python",
   "pygments_lexer": "ipython3",
   "version": "3.5.3"
  }
 },
 "nbformat": 4,
 "nbformat_minor": 2
}

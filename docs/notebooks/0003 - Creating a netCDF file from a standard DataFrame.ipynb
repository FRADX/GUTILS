{
 "cells": [
  {
   "cell_type": "markdown",
   "metadata": {},
   "source": [
    "# Creating a netCDF file from a standard DataFrame"
   ]
  },
  {
   "cell_type": "code",
   "execution_count": 1,
   "metadata": {},
   "outputs": [],
   "source": [
    "from IPython.lib.pretty import pprint\n",
    "import logging\n",
    "logger = logging.getLogger('gutils')\n",
    "logger.handlers = [logging.StreamHandler()]\n",
    "logger.setLevel(logging.DEBUG)"
   ]
  },
  {
   "cell_type": "markdown",
   "metadata": {},
   "source": [
    "### Helper for creating standard DataFrame"
   ]
  },
  {
   "cell_type": "code",
   "execution_count": 2,
   "metadata": {},
   "outputs": [
    {
     "name": "stderr",
     "output_type": "stream",
     "text": [
      "('Filtered 6/12 profiles from /data/Development/secoora/sgs/GUTILS/gutils/tests/resources/slocum/usf_bass_2016_252_1_12_sbd.dat', 'Depth (1m): 1', 'Points (3): 0', 'Time (10s): 5', 'Distance (1m): 0')\n"
     ]
    },
    {
     "name": "stdout",
     "output_type": "stream",
     "text": [
      "Profiles :  6\n"
     ]
    },
    {
     "data": {
      "text/html": [
       "<div>\n",
       "<style scoped>\n",
       "    .dataframe tbody tr th:only-of-type {\n",
       "        vertical-align: middle;\n",
       "    }\n",
       "\n",
       "    .dataframe tbody tr th {\n",
       "        vertical-align: top;\n",
       "    }\n",
       "\n",
       "    .dataframe thead th {\n",
       "        text-align: right;\n",
       "    }\n",
       "</style>\n",
       "<table border=\"1\" class=\"dataframe\">\n",
       "  <thead>\n",
       "    <tr style=\"text-align: right;\">\n",
       "      <th></th>\n",
       "      <th>c_heading</th>\n",
       "      <th>c_wpt_lat</th>\n",
       "      <th>m_altitude</th>\n",
       "      <th>m_avg_speed</th>\n",
       "      <th>m_ballast_pumped</th>\n",
       "      <th>m_battery</th>\n",
       "      <th>m_battpos</th>\n",
       "      <th>m_depth</th>\n",
       "      <th>m_depth_rate</th>\n",
       "      <th>m_gps_lat</th>\n",
       "      <th>...</th>\n",
       "      <th>t</th>\n",
       "      <th>drv_m_gps_lat</th>\n",
       "      <th>drv_m_gps_lon</th>\n",
       "      <th>y</th>\n",
       "      <th>x</th>\n",
       "      <th>pressure</th>\n",
       "      <th>z</th>\n",
       "      <th>salinity</th>\n",
       "      <th>density</th>\n",
       "      <th>profile</th>\n",
       "    </tr>\n",
       "  </thead>\n",
       "  <tbody>\n",
       "    <tr>\n",
       "      <th>12</th>\n",
       "      <td>NaN</td>\n",
       "      <td>NaN</td>\n",
       "      <td>NaN</td>\n",
       "      <td>NaN</td>\n",
       "      <td>NaN</td>\n",
       "      <td>NaN</td>\n",
       "      <td>NaN</td>\n",
       "      <td>0.036173</td>\n",
       "      <td>NaN</td>\n",
       "      <td>NaN</td>\n",
       "      <td>...</td>\n",
       "      <td>2016-09-09 16:52:25.372530</td>\n",
       "      <td>NaN</td>\n",
       "      <td>NaN</td>\n",
       "      <td>28.367681</td>\n",
       "      <td>-80.298163</td>\n",
       "      <td>NaN</td>\n",
       "      <td>NaN</td>\n",
       "      <td>NaN</td>\n",
       "      <td>NaN</td>\n",
       "      <td>1</td>\n",
       "    </tr>\n",
       "    <tr>\n",
       "      <th>13</th>\n",
       "      <td>NaN</td>\n",
       "      <td>NaN</td>\n",
       "      <td>NaN</td>\n",
       "      <td>NaN</td>\n",
       "      <td>NaN</td>\n",
       "      <td>NaN</td>\n",
       "      <td>NaN</td>\n",
       "      <td>0.036173</td>\n",
       "      <td>NaN</td>\n",
       "      <td>NaN</td>\n",
       "      <td>...</td>\n",
       "      <td>2016-09-09 16:52:30.387050</td>\n",
       "      <td>NaN</td>\n",
       "      <td>NaN</td>\n",
       "      <td>28.367684</td>\n",
       "      <td>-80.298170</td>\n",
       "      <td>NaN</td>\n",
       "      <td>NaN</td>\n",
       "      <td>NaN</td>\n",
       "      <td>NaN</td>\n",
       "      <td>1</td>\n",
       "    </tr>\n",
       "    <tr>\n",
       "      <th>14</th>\n",
       "      <td>NaN</td>\n",
       "      <td>NaN</td>\n",
       "      <td>NaN</td>\n",
       "      <td>NaN</td>\n",
       "      <td>NaN</td>\n",
       "      <td>NaN</td>\n",
       "      <td>NaN</td>\n",
       "      <td>NaN</td>\n",
       "      <td>NaN</td>\n",
       "      <td>NaN</td>\n",
       "      <td>...</td>\n",
       "      <td>2016-09-09 16:52:33.376830</td>\n",
       "      <td>NaN</td>\n",
       "      <td>NaN</td>\n",
       "      <td>28.367686</td>\n",
       "      <td>-80.298175</td>\n",
       "      <td>NaN</td>\n",
       "      <td>NaN</td>\n",
       "      <td>NaN</td>\n",
       "      <td>NaN</td>\n",
       "      <td>1</td>\n",
       "    </tr>\n",
       "    <tr>\n",
       "      <th>15</th>\n",
       "      <td>NaN</td>\n",
       "      <td>NaN</td>\n",
       "      <td>NaN</td>\n",
       "      <td>NaN</td>\n",
       "      <td>NaN</td>\n",
       "      <td>NaN</td>\n",
       "      <td>NaN</td>\n",
       "      <td>NaN</td>\n",
       "      <td>NaN</td>\n",
       "      <td>NaN</td>\n",
       "      <td>...</td>\n",
       "      <td>2016-09-09 16:52:34.410100</td>\n",
       "      <td>NaN</td>\n",
       "      <td>NaN</td>\n",
       "      <td>28.367687</td>\n",
       "      <td>-80.298176</td>\n",
       "      <td>NaN</td>\n",
       "      <td>NaN</td>\n",
       "      <td>NaN</td>\n",
       "      <td>NaN</td>\n",
       "      <td>1</td>\n",
       "    </tr>\n",
       "    <tr>\n",
       "      <th>16</th>\n",
       "      <td>NaN</td>\n",
       "      <td>NaN</td>\n",
       "      <td>NaN</td>\n",
       "      <td>NaN</td>\n",
       "      <td>NaN</td>\n",
       "      <td>NaN</td>\n",
       "      <td>0.941406</td>\n",
       "      <td>0.125632</td>\n",
       "      <td>NaN</td>\n",
       "      <td>NaN</td>\n",
       "      <td>...</td>\n",
       "      <td>2016-09-09 16:52:35.397030</td>\n",
       "      <td>NaN</td>\n",
       "      <td>NaN</td>\n",
       "      <td>28.367687</td>\n",
       "      <td>-80.298178</td>\n",
       "      <td>NaN</td>\n",
       "      <td>NaN</td>\n",
       "      <td>NaN</td>\n",
       "      <td>NaN</td>\n",
       "      <td>1</td>\n",
       "    </tr>\n",
       "  </tbody>\n",
       "</table>\n",
       "<p>5 rows × 43 columns</p>\n",
       "</div>"
      ],
      "text/plain": [
       "    c_heading  c_wpt_lat  m_altitude  m_avg_speed  m_ballast_pumped  \\\n",
       "12        NaN        NaN         NaN          NaN               NaN   \n",
       "13        NaN        NaN         NaN          NaN               NaN   \n",
       "14        NaN        NaN         NaN          NaN               NaN   \n",
       "15        NaN        NaN         NaN          NaN               NaN   \n",
       "16        NaN        NaN         NaN          NaN               NaN   \n",
       "\n",
       "    m_battery  m_battpos   m_depth  m_depth_rate  m_gps_lat   ...     \\\n",
       "12        NaN        NaN  0.036173           NaN        NaN   ...      \n",
       "13        NaN        NaN  0.036173           NaN        NaN   ...      \n",
       "14        NaN        NaN       NaN           NaN        NaN   ...      \n",
       "15        NaN        NaN       NaN           NaN        NaN   ...      \n",
       "16        NaN   0.941406  0.125632           NaN        NaN   ...      \n",
       "\n",
       "                            t  drv_m_gps_lat  drv_m_gps_lon          y  \\\n",
       "12 2016-09-09 16:52:25.372530            NaN            NaN  28.367681   \n",
       "13 2016-09-09 16:52:30.387050            NaN            NaN  28.367684   \n",
       "14 2016-09-09 16:52:33.376830            NaN            NaN  28.367686   \n",
       "15 2016-09-09 16:52:34.410100            NaN            NaN  28.367687   \n",
       "16 2016-09-09 16:52:35.397030            NaN            NaN  28.367687   \n",
       "\n",
       "            x  pressure   z  salinity  density  profile  \n",
       "12 -80.298163       NaN NaN       NaN      NaN        1  \n",
       "13 -80.298170       NaN NaN       NaN      NaN        1  \n",
       "14 -80.298175       NaN NaN       NaN      NaN        1  \n",
       "15 -80.298176       NaN NaN       NaN      NaN        1  \n",
       "16 -80.298178       NaN NaN       NaN      NaN        1  \n",
       "\n",
       "[5 rows x 43 columns]"
      ]
     },
     "execution_count": 2,
     "metadata": {},
     "output_type": "execute_result"
    }
   ],
   "source": [
    "from pathlib import Path\n",
    "\n",
    "from gutils.slocum import SlocumReader\n",
    "from gutils.filters import process_dataset\n",
    "\n",
    "ascii_folder = Path('.').absolute().parent.parent / 'gutils' / 'tests' / 'resources' / 'slocum'\n",
    "ascii_file = ascii_folder / 'usf_bass_2016_252_1_12_sbd.dat'\n",
    "\n",
    "# Do it all in one shot\n",
    "standard, mode = process_dataset(\n",
    "    file=str(ascii_file),\n",
    "    reader_class=SlocumReader,\n",
    "    filter_z=1,\n",
    "    filter_points=3,\n",
    "    filter_time=10,\n",
    "    filter_distance=1\n",
    ")\n",
    "print('Profiles : ', len(standard.profile.unique()))\n",
    "standard.head(5)"
   ]
  },
  {
   "cell_type": "markdown",
   "metadata": {},
   "source": [
    "## Create netCDF from a default template"
   ]
  },
  {
   "cell_type": "code",
   "execution_count": 3,
   "metadata": {
    "collapsed": true
   },
   "outputs": [],
   "source": [
    "import tempfile\n",
    "from gutils.nc import read_attrs, create_netcdf\n",
    "\n",
    "# output folder\n",
    "netcdf_output = tempfile.mkdtemp()"
   ]
  },
  {
   "cell_type": "code",
   "execution_count": 4,
   "metadata": {},
   "outputs": [
    {
     "data": {
      "text/plain": [
       "['crs',\n",
       " 'conductivity',\n",
       " 'density',\n",
       " 'depth',\n",
       " 'm_altitude',\n",
       " 'lat',\n",
       " 'lat_uv',\n",
       " 'lon',\n",
       " 'lon_uv',\n",
       " 'platform',\n",
       " 'pressure',\n",
       " 'profile_id',\n",
       " 'profile_lat',\n",
       " 'profile_lon',\n",
       " 'profile_time',\n",
       " 'salinity',\n",
       " 'temperature',\n",
       " 'time',\n",
       " 'time_uv',\n",
       " 'trajectory',\n",
       " 'u',\n",
       " 'v',\n",
       " 'u_orig',\n",
       " 'v_orig',\n",
       " 'sci_oxy3835_oxygen',\n",
       " 'sci_oxy3835_wphase_oxygen',\n",
       " 'sci_oxy3835_wphase_saturation',\n",
       " 'sci_bbfl2s_chlor_scaled',\n",
       " 'sci_flbbcd_chlor_units',\n",
       " 'sci_flntu_chlor_units',\n",
       " 'sci_flntu_turb_units',\n",
       " 'sci_bbfl2s_cdom_scaled',\n",
       " 'sci_flbbcd_cdom_units']"
      ]
     },
     "execution_count": 4,
     "metadata": {},
     "output_type": "execute_result"
    }
   ],
   "source": [
    "# Default \"trajectory\" metadata\n",
    "default_attrs = read_attrs()\n",
    "\n",
    "# The required attributes to identify a unique deployment\n",
    "default_attrs['glider'] = 'bass'\n",
    "default_attrs['trajectory_date'] = '20160909T1733'\n",
    "\n",
    "list(default_attrs['variables'].keys())"
   ]
  },
  {
   "cell_type": "code",
   "execution_count": 5,
   "metadata": {},
   "outputs": [
    {
     "name": "stderr",
     "output_type": "stream",
     "text": [
      "Excluded from output (absent from JSON config):\n",
      "  * m_roll\n",
      "  * c_wpt_lat\n",
      "  * m_pitch\n",
      "  * sci_bbfl2s_bb_scaled\n",
      "  * m_gps_lon\n",
      "  * m_mission_avg_speed_climbing\n",
      "  * m_present_time\n",
      "  * m_battery\n",
      "  * m_leakdetect_voltage\n",
      "  * drv_m_gps_lon\n",
      "  * m_vacuum\n",
      "  * m_water_depth\n",
      "  * m_battpos\n",
      "  * m_depth\n",
      "  * sci_water_pressure\n",
      "  * m_lat\n",
      "  * m_vehicle_temp\n",
      "  * m_lon\n",
      "  * m_mission_avg_speed_diving\n",
      "  * m_ballast_pumped\n",
      "  * m_avg_speed\n",
      "  * m_depth_rate\n",
      "  * m_gps_lat\n",
      "  * sci_m_present_time\n",
      "  * m_heading\n",
      "  * drv_m_gps_lat\n",
      "  * c_heading\n",
      "Created: /tmp/tmpxalj0k8v/bass_20160909T165225Z_1473439945_rt.nc\n",
      "Created: /tmp/tmpxalj0k8v/bass_20160909T165714Z_1473440234_rt.nc\n",
      "Created: /tmp/tmpxalj0k8v/bass_20160909T170015Z_1473440415_rt.nc\n",
      "Created: /tmp/tmpxalj0k8v/bass_20160909T170453Z_1473440693_rt.nc\n",
      "Created: /tmp/tmpxalj0k8v/bass_20160909T170754Z_1473440874_rt.nc\n",
      "Created: /tmp/tmpxalj0k8v/bass_20160909T171123Z_1473441083_rt.nc\n"
     ]
    },
    {
     "name": "stdout",
     "output_type": "stream",
     "text": [
      "['trajectory',\n",
      " 'crs',\n",
      " 'time',\n",
      " 'depth',\n",
      " 'lat',\n",
      " 'lon',\n",
      " 'm_altitude',\n",
      " 'sci_bbfl2s_cdom_scaled',\n",
      " 'sci_bbfl2s_chlor_scaled',\n",
      " 'sci_oxy3835_oxygen',\n",
      " 'conductivity',\n",
      " 'temperature',\n",
      " 'pressure',\n",
      " 'salinity',\n",
      " 'density',\n",
      " 'lat_uv',\n",
      " 'lon_uv',\n",
      " 'platform',\n",
      " 'profile_id',\n",
      " 'profile_lat',\n",
      " 'profile_lon',\n",
      " 'profile_time',\n",
      " 'time_uv',\n",
      " 'u',\n",
      " 'v']\n"
     ]
    }
   ],
   "source": [
    "netcdf_files = create_netcdf(\n",
    "    attrs=default_attrs,\n",
    "    data=standard,\n",
    "    output_path=netcdf_output,\n",
    "    mode=mode\n",
    ")\n",
    "import netCDF4 as nc4\n",
    "with nc4.Dataset(netcdf_files[0]) as first_profile:\n",
    "    pprint(list(first_profile.variables.keys()))"
   ]
  },
  {
   "cell_type": "markdown",
   "metadata": {},
   "source": [
    "## Create netCDF from an IOOS template"
   ]
  },
  {
   "cell_type": "code",
   "execution_count": 6,
   "metadata": {},
   "outputs": [
    {
     "data": {
      "text/plain": [
       "['crs',\n",
       " 'conductivity',\n",
       " 'density',\n",
       " 'depth',\n",
       " 'lat',\n",
       " 'lat_uv',\n",
       " 'lon',\n",
       " 'lon_uv',\n",
       " 'platform',\n",
       " 'pressure',\n",
       " 'profile_id',\n",
       " 'profile_lat',\n",
       " 'profile_lon',\n",
       " 'profile_time',\n",
       " 'salinity',\n",
       " 'temperature',\n",
       " 'time',\n",
       " 'time_uv',\n",
       " 'trajectory',\n",
       " 'u',\n",
       " 'v']"
      ]
     },
     "execution_count": 6,
     "metadata": {},
     "output_type": "execute_result"
    }
   ],
   "source": [
    "# IOOS NGDAC metadata\n",
    "ioos_attrs = read_attrs(template='ioos_ngdac')\n",
    "\n",
    "# The required attributes to identify a unique deployment\n",
    "ioos_attrs['glider'] = 'bass'\n",
    "ioos_attrs['trajectory_date'] = '20160909T1733'\n",
    "\n",
    "list(ioos_attrs['variables'].keys())"
   ]
  },
  {
   "cell_type": "code",
   "execution_count": 7,
   "metadata": {},
   "outputs": [
    {
     "name": "stderr",
     "output_type": "stream",
     "text": [
      "Excluded from output (absent from JSON config):\n",
      "  * m_roll\n",
      "  * m_altitude\n",
      "  * c_wpt_lat\n",
      "  * m_pitch\n",
      "  * sci_bbfl2s_bb_scaled\n",
      "  * m_gps_lon\n",
      "  * m_mission_avg_speed_climbing\n",
      "  * sci_bbfl2s_cdom_scaled\n",
      "  * m_present_time\n",
      "  * m_battery\n",
      "  * m_leakdetect_voltage\n",
      "  * drv_m_gps_lon\n",
      "  * m_vacuum\n",
      "  * m_water_depth\n",
      "  * m_battpos\n",
      "  * sci_oxy3835_oxygen\n",
      "  * m_depth\n",
      "  * sci_bbfl2s_chlor_scaled\n",
      "  * sci_water_pressure\n",
      "  * m_lat\n",
      "  * m_vehicle_temp\n",
      "  * m_lon\n",
      "  * m_mission_avg_speed_diving\n",
      "  * m_ballast_pumped\n",
      "  * m_avg_speed\n",
      "  * m_depth_rate\n",
      "  * m_gps_lat\n",
      "  * sci_m_present_time\n",
      "  * m_heading\n",
      "  * drv_m_gps_lat\n",
      "  * c_heading\n",
      "Created: /tmp/tmpxalj0k8v/bass_20160909T165225Z_1473439945_rt.nc\n",
      "Created: /tmp/tmpxalj0k8v/bass_20160909T165714Z_1473440234_rt.nc\n",
      "Created: /tmp/tmpxalj0k8v/bass_20160909T170015Z_1473440415_rt.nc\n",
      "Created: /tmp/tmpxalj0k8v/bass_20160909T170453Z_1473440693_rt.nc\n",
      "Created: /tmp/tmpxalj0k8v/bass_20160909T170754Z_1473440874_rt.nc\n",
      "Created: /tmp/tmpxalj0k8v/bass_20160909T171123Z_1473441083_rt.nc\n"
     ]
    },
    {
     "name": "stdout",
     "output_type": "stream",
     "text": [
      "['trajectory',\n",
      " 'crs',\n",
      " 'time',\n",
      " 'depth',\n",
      " 'lat',\n",
      " 'lon',\n",
      " 'conductivity',\n",
      " 'temperature',\n",
      " 'pressure',\n",
      " 'salinity',\n",
      " 'density',\n",
      " 'lat_uv',\n",
      " 'lon_uv',\n",
      " 'platform',\n",
      " 'profile_id',\n",
      " 'profile_lat',\n",
      " 'profile_lon',\n",
      " 'profile_time',\n",
      " 'time_uv',\n",
      " 'u',\n",
      " 'v']\n"
     ]
    }
   ],
   "source": [
    "netcdf_files = create_netcdf(\n",
    "    attrs=ioos_attrs,\n",
    "    data=standard,\n",
    "    output_path=netcdf_output,\n",
    "    mode=mode\n",
    ")\n",
    "import netCDF4 as nc4\n",
    "with nc4.Dataset(netcdf_files[0]) as first_profile:\n",
    "    pprint(list(first_profile.variables.keys()))"
   ]
  },
  {
   "cell_type": "markdown",
   "metadata": {},
   "source": [
    "## Create netCDF without subsetting any variables\n",
    "\n",
    "By default only variables that have metadata defined for them are exported\n"
   ]
  },
  {
   "cell_type": "code",
   "execution_count": 8,
   "metadata": {},
   "outputs": [
    {
     "name": "stderr",
     "output_type": "stream",
     "text": [
      "Created: /tmp/tmpxalj0k8v/bass_20160909T165225Z_1473439945_rt.nc\n",
      "Created: /tmp/tmpxalj0k8v/bass_20160909T165714Z_1473440234_rt.nc\n",
      "Created: /tmp/tmpxalj0k8v/bass_20160909T170015Z_1473440415_rt.nc\n",
      "Created: /tmp/tmpxalj0k8v/bass_20160909T170453Z_1473440693_rt.nc\n",
      "Created: /tmp/tmpxalj0k8v/bass_20160909T170754Z_1473440874_rt.nc\n",
      "Created: /tmp/tmpxalj0k8v/bass_20160909T171123Z_1473441083_rt.nc\n"
     ]
    },
    {
     "name": "stdout",
     "output_type": "stream",
     "text": [
      "['trajectory',\n",
      " 'crs',\n",
      " 'time',\n",
      " 'depth',\n",
      " 'lat',\n",
      " 'lon',\n",
      " 'c_heading',\n",
      " 'c_wpt_lat',\n",
      " 'm_altitude',\n",
      " 'm_avg_speed',\n",
      " 'm_ballast_pumped',\n",
      " 'm_battery',\n",
      " 'm_battpos',\n",
      " 'm_depth',\n",
      " 'm_depth_rate',\n",
      " 'm_gps_lat',\n",
      " 'm_gps_lon',\n",
      " 'm_heading',\n",
      " 'm_lat',\n",
      " 'm_leakdetect_voltage',\n",
      " 'm_lon',\n",
      " 'm_mission_avg_speed_climbing',\n",
      " 'm_mission_avg_speed_diving',\n",
      " 'm_pitch',\n",
      " 'm_present_time',\n",
      " 'm_roll',\n",
      " 'm_vacuum',\n",
      " 'm_vehicle_temp',\n",
      " 'm_water_depth',\n",
      " 'sci_bbfl2s_bb_scaled',\n",
      " 'sci_bbfl2s_cdom_scaled',\n",
      " 'sci_bbfl2s_chlor_scaled',\n",
      " 'sci_m_present_time',\n",
      " 'sci_oxy3835_oxygen',\n",
      " 'conductivity',\n",
      " 'sci_water_pressure',\n",
      " 'temperature',\n",
      " 'drv_m_gps_lat',\n",
      " 'drv_m_gps_lon',\n",
      " 'pressure',\n",
      " 'salinity',\n",
      " 'density',\n",
      " 'lat_uv',\n",
      " 'lon_uv',\n",
      " 'platform',\n",
      " 'profile_id',\n",
      " 'profile_lat',\n",
      " 'profile_lon',\n",
      " 'profile_time',\n",
      " 'time_uv',\n",
      " 'u',\n",
      " 'v']\n"
     ]
    }
   ],
   "source": [
    "netcdf_files = create_netcdf(\n",
    "    attrs=default_attrs,\n",
    "    data=standard,\n",
    "    output_path=netcdf_output,\n",
    "    subset=False,\n",
    "    mode=mode\n",
    ")\n",
    "import netCDF4 as nc4\n",
    "with nc4.Dataset(netcdf_files[0]) as first_profile:\n",
    "    pprint(list(first_profile.variables.keys()))"
   ]
  },
  {
   "cell_type": "markdown",
   "metadata": {},
   "source": [
    "## Produced netCDF files have metadata automatically calculated"
   ]
  },
  {
   "cell_type": "code",
   "execution_count": 9,
   "metadata": {},
   "outputs": [
    {
     "name": "stdout",
     "output_type": "stream",
     "text": [
      "<class 'netCDF4._netCDF4.Dataset'>\n",
      "root group (NETCDF4 data model, file format HDF5):\n",
      "    featureType: trajectory\n",
      "    Conventions: CF-1.6, Unidata Dataset Discovery v1.0\n",
      "    date_created: 2017-11-06T15:43:59Z\n",
      "    cdm_data_type: trajectory\n",
      "    format_version: IOOS_Glider_NetCDF_v3.0-noqartod.nc\n",
      "    keywords: AUVS > Autonomous Underwater Vehicles, Oceans > Ocean Pressure > Water Pressure, Oceans > Ocean Temperature > Water Temperature, Oceans > Salinity/Density > Conductivity, Oceans > Salinity/Density > Density, Oceans > Salinity/Density > Salinity\n",
      "    keywords_vocabulary: GCMD Science Keywords\n",
      "    license: This data may be redistributed and used without restriction.  Data provided as is with no expressed or implied assurance of quality assurance or quality control\n",
      "    Metadata_Conventions: CF-1.6, Unidata Dataset Discovery v1.0\n",
      "    platform_type: Slocum Glider\n",
      "    processing_level: Dataset taken from glider native file format and is provided as is with no expressed or implied assurance of quality assurance or quality control.\n",
      "    source: Observational data from a profiling glider\n",
      "    standard_name_vocabulary: CF-v25\n",
      "    summary: Gliders are small, free-swimming, unmanned vehicles that use changes in buoyancy to move vertically and horizontally through the water column in a saw-tooth pattern. They are deployed for days to several months and gather detailed information about the physical, chemical and biological processes of the water.\n",
      "    title: Glider Dataset\n",
      "    geospatial_lat_min: 28.36768\n",
      "    geospatial_lat_max: 28.36823\n",
      "    geospatial_lon_min: -80.29825\n",
      "    geospatial_lon_max: -80.29804\n",
      "    geospatial_bounds: POLYGON ((28.368230 -80.298250, 28.368230 -80.298040, 28.367680 -80.298040, 28.367680 -80.298250, 28.368230 -80.298250))\n",
      "    geospatial_vertical_max: 20.044276\n",
      "    geospatial_vertical_units: m\n",
      "    geospatial_vertical_min: 0.258264\n",
      "    time_coverage_duration: P0DT0H4M36.70297S\n",
      "    time_coverage_start: 2016-09-09T16:52:25Z\n",
      "    time_coverage_end: 2016-09-09T16:57:02Z\n",
      "    date_issued: 2017-11-06T15:43:59Z\n",
      "    history: 2017-11-06T15:43:59Z - Created with the GUTILS package: \"/home/kwilcox/miniconda3-py36/envs/gutils35/lib/python3.5/site-packages/ipykernel_launcher.py\"\n",
      "    date_modified: 2017-11-06T15:43:59Z\n",
      "    id: bass-20160909T1733\n",
      "    dimensions(sizes): obs(148)\n",
      "    variables(dimensions): <class 'str'> \u001b[4mtrajectory\u001b[0m(), int32 \u001b[4mcrs\u001b[0m(), float64 \u001b[4mtime\u001b[0m(obs), float64 \u001b[4mdepth\u001b[0m(obs), float64 \u001b[4mlat\u001b[0m(obs), float64 \u001b[4mlon\u001b[0m(obs), float64 \u001b[4mc_heading\u001b[0m(obs), float64 \u001b[4mc_wpt_lat\u001b[0m(obs), float64 \u001b[4mm_altitude\u001b[0m(obs), float64 \u001b[4mm_avg_speed\u001b[0m(obs), float64 \u001b[4mm_ballast_pumped\u001b[0m(obs), float64 \u001b[4mm_battery\u001b[0m(obs), float64 \u001b[4mm_battpos\u001b[0m(obs), float64 \u001b[4mm_depth\u001b[0m(obs), float64 \u001b[4mm_depth_rate\u001b[0m(obs), float64 \u001b[4mm_gps_lat\u001b[0m(obs), float64 \u001b[4mm_gps_lon\u001b[0m(obs), float64 \u001b[4mm_heading\u001b[0m(obs), float64 \u001b[4mm_lat\u001b[0m(obs), float64 \u001b[4mm_leakdetect_voltage\u001b[0m(obs), float64 \u001b[4mm_lon\u001b[0m(obs), float64 \u001b[4mm_mission_avg_speed_climbing\u001b[0m(obs), float64 \u001b[4mm_mission_avg_speed_diving\u001b[0m(obs), float64 \u001b[4mm_pitch\u001b[0m(obs), float64 \u001b[4mm_present_time\u001b[0m(obs), float64 \u001b[4mm_roll\u001b[0m(obs), float64 \u001b[4mm_vacuum\u001b[0m(obs), float64 \u001b[4mm_vehicle_temp\u001b[0m(obs), float64 \u001b[4mm_water_depth\u001b[0m(obs), float64 \u001b[4msci_bbfl2s_bb_scaled\u001b[0m(obs), float64 \u001b[4msci_bbfl2s_cdom_scaled\u001b[0m(obs), float64 \u001b[4msci_bbfl2s_chlor_scaled\u001b[0m(obs), float64 \u001b[4msci_m_present_time\u001b[0m(obs), float64 \u001b[4msci_oxy3835_oxygen\u001b[0m(obs), float64 \u001b[4mconductivity\u001b[0m(obs), float64 \u001b[4msci_water_pressure\u001b[0m(obs), float64 \u001b[4mtemperature\u001b[0m(obs), float64 \u001b[4mdrv_m_gps_lat\u001b[0m(obs), float64 \u001b[4mdrv_m_gps_lon\u001b[0m(obs), float64 \u001b[4mpressure\u001b[0m(obs), float64 \u001b[4msalinity\u001b[0m(obs), float64 \u001b[4mdensity\u001b[0m(obs), float64 \u001b[4mlat_uv\u001b[0m(), float64 \u001b[4mlon_uv\u001b[0m(), int32 \u001b[4mplatform\u001b[0m(), int32 \u001b[4mprofile_id\u001b[0m(), float64 \u001b[4mprofile_lat\u001b[0m(), float64 \u001b[4mprofile_lon\u001b[0m(), float64 \u001b[4mprofile_time\u001b[0m(), float64 \u001b[4mtime_uv\u001b[0m(), float64 \u001b[4mu\u001b[0m(), float64 \u001b[4mv\u001b[0m()\n",
      "    groups: \n",
      "\n"
     ]
    }
   ],
   "source": [
    "with nc4.Dataset(netcdf_files[0]) as first_profile:\n",
    "    print(first_profile)"
   ]
  },
  {
   "cell_type": "markdown",
   "metadata": {},
   "source": [
    "## Built-in compliance checker"
   ]
  },
  {
   "cell_type": "code",
   "execution_count": 20,
   "metadata": {},
   "outputs": [],
   "source": [
    "from types import SimpleNamespace\n",
    "from gutils.nc import check_dataset\n",
    "\n",
    "first = SimpleNamespace(file=netcdf_files[0])\n",
    "assert check_dataset(first) == 0"
   ]
  },
  {
   "cell_type": "code",
   "execution_count": 23,
   "metadata": {},
   "outputs": [
    {
     "ename": "OSError",
     "evalue": "NetCDF: HDF error",
     "output_type": "error",
     "traceback": [
      "\u001b[0;31m---------------------------------------------------------------------------\u001b[0m",
      "\u001b[0;31mOSError\u001b[0m                                   Traceback (most recent call last)",
      "\u001b[0;32m<ipython-input-23-bf177fb8d494>\u001b[0m in \u001b[0;36m<module>\u001b[0;34m()\u001b[0m\n\u001b[0;32m----> 1\u001b[0;31m \u001b[0;32mwith\u001b[0m \u001b[0mnc4\u001b[0m\u001b[0;34m.\u001b[0m\u001b[0mDataset\u001b[0m\u001b[0;34m(\u001b[0m\u001b[0mnetcdf_files\u001b[0m\u001b[0;34m[\u001b[0m\u001b[0;34m-\u001b[0m\u001b[0;36m1\u001b[0m\u001b[0;34m]\u001b[0m\u001b[0;34m,\u001b[0m \u001b[0;34m'a'\u001b[0m\u001b[0;34m)\u001b[0m \u001b[0;32mas\u001b[0m \u001b[0mlast_profile\u001b[0m\u001b[0;34m:\u001b[0m\u001b[0;34m\u001b[0m\u001b[0m\n\u001b[0m\u001b[1;32m      2\u001b[0m     \u001b[0mlast_profile\u001b[0m\u001b[0;34m.\u001b[0m\u001b[0mid\u001b[0m \u001b[0;34m=\u001b[0m \u001b[0;34m\"\"\u001b[0m\u001b[0;34m\u001b[0m\u001b[0m\n\u001b[1;32m      3\u001b[0m \u001b[0;34m\u001b[0m\u001b[0m\n\u001b[1;32m      4\u001b[0m \u001b[0mlast\u001b[0m \u001b[0;34m=\u001b[0m \u001b[0mSimpleNamespace\u001b[0m\u001b[0;34m(\u001b[0m\u001b[0mfile\u001b[0m\u001b[0;34m=\u001b[0m\u001b[0mnetcdf_files\u001b[0m\u001b[0;34m[\u001b[0m\u001b[0;34m-\u001b[0m\u001b[0;36m1\u001b[0m\u001b[0;34m]\u001b[0m\u001b[0;34m)\u001b[0m\u001b[0;34m\u001b[0m\u001b[0m\n\u001b[1;32m      5\u001b[0m \u001b[0mcheck_dataset\u001b[0m\u001b[0;34m(\u001b[0m\u001b[0mlast\u001b[0m\u001b[0;34m)\u001b[0m\u001b[0;34m\u001b[0m\u001b[0m\n",
      "\u001b[0;32mnetCDF4/_netCDF4.pyx\u001b[0m in \u001b[0;36mnetCDF4._netCDF4.Dataset.__init__\u001b[0;34m()\u001b[0m\n",
      "\u001b[0;32mnetCDF4/_netCDF4.pyx\u001b[0m in \u001b[0;36mnetCDF4._netCDF4._ensure_nc_success\u001b[0;34m()\u001b[0m\n",
      "\u001b[0;31mOSError\u001b[0m: NetCDF: HDF error"
     ]
    }
   ],
   "source": [
    "with nc4.Dataset(netcdf_files[-1], 'a') as last_profile:\n",
    "    last_profile.id = \"\"\n",
    "\n",
    "last = SimpleNamespace(file=netcdf_files[-1])\n",
    "check_dataset(last)"
   ]
  },
  {
   "cell_type": "code",
   "execution_count": null,
   "metadata": {
    "collapsed": true
   },
   "outputs": [],
   "source": []
  }
 ],
 "metadata": {
  "kernelspec": {
   "display_name": "Python 3",
   "language": "python",
   "name": "python3"
  },
  "language_info": {
   "codemirror_mode": {
    "name": "ipython",
    "version": 3
   },
   "file_extension": ".py",
   "mimetype": "text/x-python",
   "name": "python",
   "nbconvert_exporter": "python",
   "pygments_lexer": "ipython3",
   "version": "3.5.3"
  }
 },
 "nbformat": 4,
 "nbformat_minor": 2
}

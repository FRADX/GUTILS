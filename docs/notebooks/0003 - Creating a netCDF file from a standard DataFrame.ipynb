{
 "cells": [
  {
   "cell_type": "markdown",
   "metadata": {},
   "source": [
    "# Creating a netCDF file from a standard DataFrame"
   ]
  },
  {
   "cell_type": "code",
   "execution_count": 1,
   "metadata": {},
   "outputs": [],
   "source": [
    "from IPython.lib.pretty import pprint\n",
    "import logging\n",
    "logger = logging.getLogger('gutils')\n",
    "logger.handlers = [logging.StreamHandler()]\n",
    "logger.setLevel(logging.DEBUG)\n",
    "\n",
    "def plot_profiles(default_df):\n",
    "    import matplotlib.dates as mpd\n",
    "    import matplotlib.pyplot as plt\n",
    "    df = default_df.copy()\n",
    "    df['z'] = df.z.values * -1\n",
    "    df['t'] = mpd.date2num(df.t.dt.to_pydatetime())\n",
    "    df.plot.scatter(x='t', y='z', c='profile', cmap='tab20')\n",
    "    plt.show()"
   ]
  },
  {
   "cell_type": "markdown",
   "metadata": {},
   "source": [
    "### Helper for creating standard DataFrame"
   ]
  },
  {
   "cell_type": "code",
   "execution_count": 2,
   "metadata": {},
   "outputs": [
    {
     "name": "stderr",
     "output_type": "stream",
     "text": [
      "('Filtered 5/11 profiles from /data/Development/secoora/sgs/GUTILS/gutils/tests/resources/slocum/usf_bass_2016_252_1_12_sbd.dat', 'Depth (1m): 3', 'Points (3): 2', 'Time (10s): 0', 'Distance (1m): 0')\n"
     ]
    },
    {
     "name": "stdout",
     "output_type": "stream",
     "text": [
      "Profiles :  6\n"
     ]
    },
    {
     "data": {
      "image/png": "[encoded data removed]",
      "text/plain": [
       "<matplotlib.figure.Figure at 0x7f1c29e7f518>"
      ]
     },
     "metadata": {},
     "output_type": "display_data"
    }
   ],
   "source": [
    "from pathlib import Path\n",
    "\n",
    "from gutils.slocum import SlocumReader\n",
    "from gutils.filters import process_dataset\n",
    "\n",
    "ascii_folder = Path('.').absolute().parent.parent / 'gutils' / 'tests' / 'resources' / 'slocum'\n",
    "ascii_file = ascii_folder / 'usf_bass_2016_252_1_12_sbd.dat'\n",
    "\n",
    "# Do it all in one shot\n",
    "standard, mode = process_dataset(\n",
    "    file=str(ascii_file),\n",
    "    reader_class=SlocumReader,\n",
    "    tsint=2,\n",
    "    filter_z=1,\n",
    "    filter_points=3,\n",
    "    filter_time=10,\n",
    "    filter_distance=1\n",
    ")\n",
    "print('Profiles : ', len(standard.profile.unique()))\n",
    "plot_profiles(standard)"
   ]
  },
  {
   "cell_type": "markdown",
   "metadata": {},
   "source": [
    "## Create netCDF from a default template"
   ]
  },
  {
   "cell_type": "code",
   "execution_count": 3,
   "metadata": {
    "collapsed": true
   },
   "outputs": [],
   "source": [
    "import tempfile\n",
    "from gutils.nc import read_attrs, create_netcdf\n",
    "\n",
    "# output folder\n",
    "netcdf_output = tempfile.mkdtemp()"
   ]
  },
  {
   "cell_type": "code",
   "execution_count": 4,
   "metadata": {},
   "outputs": [
    {
     "data": {
      "text/plain": [
       "['crs',\n",
       " 'conductivity',\n",
       " 'density',\n",
       " 'depth',\n",
       " 'm_altitude',\n",
       " 'lat',\n",
       " 'lat_uv',\n",
       " 'lon',\n",
       " 'lon_uv',\n",
       " 'platform',\n",
       " 'pressure',\n",
       " 'profile_id',\n",
       " 'profile_lat',\n",
       " 'profile_lon',\n",
       " 'profile_time',\n",
       " 'salinity',\n",
       " 'temperature',\n",
       " 'time',\n",
       " 'time_uv',\n",
       " 'trajectory',\n",
       " 'u',\n",
       " 'v',\n",
       " 'u_orig',\n",
       " 'v_orig',\n",
       " 'sci_oxy3835_oxygen',\n",
       " 'sci_oxy3835_wphase_oxygen',\n",
       " 'sci_oxy3835_wphase_saturation',\n",
       " 'sci_bbfl2s_chlor_scaled',\n",
       " 'sci_flbbcd_chlor_units',\n",
       " 'sci_flntu_chlor_units',\n",
       " 'sci_flntu_turb_units',\n",
       " 'sci_bbfl2s_cdom_scaled',\n",
       " 'sci_flbbcd_cdom_units']"
      ]
     },
     "execution_count": 4,
     "metadata": {},
     "output_type": "execute_result"
    }
   ],
   "source": [
    "# Default \"trajectory\" metadata\n",
    "default_attrs = read_attrs()\n",
    "\n",
    "# The required attributes to identify a unique deployment\n",
    "default_attrs['glider'] = 'bass'\n",
    "default_attrs['trajectory_date'] = '20160909T1733'\n",
    "\n",
    "list(default_attrs['variables'].keys())"
   ]
  },
  {
   "cell_type": "code",
   "execution_count": 5,
   "metadata": {},
   "outputs": [
    {
     "name": "stderr",
     "output_type": "stream",
     "text": [
      "Excluded from output (absent from JSON config):\n",
      "  * m_lon\n",
      "  * c_wpt_lat\n",
      "  * m_water_depth\n",
      "  * m_ballast_pumped\n",
      "  * m_battpos\n",
      "  * m_avg_speed\n",
      "  * m_roll\n",
      "  * m_depth_rate\n",
      "  * m_vehicle_temp\n",
      "  * m_pitch\n",
      "  * c_heading\n",
      "  * m_vacuum\n",
      "  * sci_water_pressure\n",
      "  * m_mission_avg_speed_diving\n",
      "  * m_battery\n",
      "  * m_lat\n",
      "  * sci_bbfl2s_bb_scaled\n",
      "  * sci_m_present_time\n",
      "  * m_gps_lon\n",
      "  * m_leakdetect_voltage\n",
      "  * m_heading\n",
      "  * m_present_time\n",
      "  * m_mission_avg_speed_climbing\n",
      "  * drv_m_gps_lon\n",
      "  * m_gps_lat\n",
      "  * drv_m_gps_lat\n",
      "  * m_depth\n",
      "Created: /tmp/tmpmm2yto_x/bass_20160909T165240Z_1473439960_rt.nc\n",
      "Created: /tmp/tmpmm2yto_x/bass_20160909T165732Z_1473440252_rt.nc\n",
      "Created: /tmp/tmpmm2yto_x/bass_20160909T170018Z_1473440418_rt.nc\n",
      "Created: /tmp/tmpmm2yto_x/bass_20160909T170513Z_1473440713_rt.nc\n",
      "Created: /tmp/tmpmm2yto_x/bass_20160909T170804Z_1473440884_rt.nc\n",
      "Created: /tmp/tmpmm2yto_x/bass_20160909T171144Z_1473441104_rt.nc\n"
     ]
    },
    {
     "name": "stdout",
     "output_type": "stream",
     "text": [
      "['trajectory',\n",
      " 'crs',\n",
      " 'time',\n",
      " 'depth',\n",
      " 'lat',\n",
      " 'lon',\n",
      " 'm_altitude',\n",
      " 'sci_bbfl2s_cdom_scaled',\n",
      " 'sci_bbfl2s_chlor_scaled',\n",
      " 'sci_oxy3835_oxygen',\n",
      " 'conductivity',\n",
      " 'temperature',\n",
      " 'pressure',\n",
      " 'salinity',\n",
      " 'density',\n",
      " 'lat_uv',\n",
      " 'lon_uv',\n",
      " 'platform',\n",
      " 'profile_id',\n",
      " 'profile_lat',\n",
      " 'profile_lon',\n",
      " 'profile_time',\n",
      " 'time_uv',\n",
      " 'u',\n",
      " 'v']\n"
     ]
    }
   ],
   "source": [
    "# Export the actual netCDF files\n",
    "netcdf_files = create_netcdf(\n",
    "    attrs=default_attrs,\n",
    "    data=standard,\n",
    "    output_path=netcdf_output,\n",
    "    mode=mode\n",
    ")\n",
    "import netCDF4 as nc4\n",
    "with nc4.Dataset(netcdf_files[0]) as first_profile:\n",
    "    pprint(list(first_profile.variables.keys()))"
   ]
  },
  {
   "cell_type": "markdown",
   "metadata": {},
   "source": [
    "## Create netCDF from an IOOS template"
   ]
  },
  {
   "cell_type": "code",
   "execution_count": 6,
   "metadata": {},
   "outputs": [
    {
     "data": {
      "text/plain": [
       "['crs',\n",
       " 'conductivity',\n",
       " 'density',\n",
       " 'depth',\n",
       " 'lat',\n",
       " 'lat_uv',\n",
       " 'lon',\n",
       " 'lon_uv',\n",
       " 'platform',\n",
       " 'pressure',\n",
       " 'profile_id',\n",
       " 'profile_lat',\n",
       " 'profile_lon',\n",
       " 'profile_time',\n",
       " 'salinity',\n",
       " 'temperature',\n",
       " 'time',\n",
       " 'time_uv',\n",
       " 'trajectory',\n",
       " 'u',\n",
       " 'v']"
      ]
     },
     "execution_count": 6,
     "metadata": {},
     "output_type": "execute_result"
    }
   ],
   "source": [
    "# IOOS NGDAC metadata\n",
    "ioos_attrs = read_attrs(template='ioos_ngdac')\n",
    "\n",
    "# The required attributes to identify a unique deployment\n",
    "ioos_attrs['glider'] = 'bass'\n",
    "ioos_attrs['trajectory_date'] = '20160909T1733'\n",
    "\n",
    "list(ioos_attrs['variables'].keys())"
   ]
  },
  {
   "cell_type": "code",
   "execution_count": 7,
   "metadata": {
    "scrolled": true
   },
   "outputs": [
    {
     "name": "stderr",
     "output_type": "stream",
     "text": [
      "Excluded from output (absent from JSON config):\n",
      "  * m_lon\n",
      "  * sci_bbfl2s_chlor_scaled\n",
      "  * c_wpt_lat\n",
      "  * m_water_depth\n",
      "  * m_ballast_pumped\n",
      "  * m_battpos\n",
      "  * m_avg_speed\n",
      "  * m_roll\n",
      "  * m_depth_rate\n",
      "  * m_vehicle_temp\n",
      "  * m_pitch\n",
      "  * c_heading\n",
      "  * m_altitude\n",
      "  * m_vacuum\n",
      "  * sci_water_pressure\n",
      "  * sci_oxy3835_oxygen\n",
      "  * sci_bbfl2s_cdom_scaled\n",
      "  * m_mission_avg_speed_diving\n",
      "  * m_battery\n",
      "  * m_lat\n",
      "  * sci_bbfl2s_bb_scaled\n",
      "  * sci_m_present_time\n",
      "  * m_leakdetect_voltage\n",
      "  * m_gps_lon\n",
      "  * m_heading\n",
      "  * m_present_time\n",
      "  * m_mission_avg_speed_climbing\n",
      "  * drv_m_gps_lon\n",
      "  * m_gps_lat\n",
      "  * drv_m_gps_lat\n",
      "  * m_depth\n",
      "Created: /tmp/tmpmm2yto_x/bass_20160909T165240Z_1473439960_rt.nc\n",
      "Created: /tmp/tmpmm2yto_x/bass_20160909T165732Z_1473440252_rt.nc\n",
      "Created: /tmp/tmpmm2yto_x/bass_20160909T170018Z_1473440418_rt.nc\n",
      "Created: /tmp/tmpmm2yto_x/bass_20160909T170513Z_1473440713_rt.nc\n",
      "Created: /tmp/tmpmm2yto_x/bass_20160909T170804Z_1473440884_rt.nc\n",
      "Created: /tmp/tmpmm2yto_x/bass_20160909T171144Z_1473441104_rt.nc\n"
     ]
    },
    {
     "name": "stdout",
     "output_type": "stream",
     "text": [
      "['trajectory',\n",
      " 'crs',\n",
      " 'time',\n",
      " 'depth',\n",
      " 'lat',\n",
      " 'lon',\n",
      " 'conductivity',\n",
      " 'temperature',\n",
      " 'pressure',\n",
      " 'salinity',\n",
      " 'density',\n",
      " 'lat_uv',\n",
      " 'lon_uv',\n",
      " 'platform',\n",
      " 'profile_id',\n",
      " 'profile_lat',\n",
      " 'profile_lon',\n",
      " 'profile_time',\n",
      " 'time_uv',\n",
      " 'u',\n",
      " 'v']\n"
     ]
    }
   ],
   "source": [
    "# Export the actual netCDF files\n",
    "netcdf_files = create_netcdf(\n",
    "    attrs=ioos_attrs,\n",
    "    data=standard,\n",
    "    output_path=netcdf_output,\n",
    "    mode=mode\n",
    ")\n",
    "import netCDF4 as nc4\n",
    "with nc4.Dataset(netcdf_files[0]) as first_profile:\n",
    "    pprint(list(first_profile.variables.keys()))"
   ]
  },
  {
   "cell_type": "markdown",
   "metadata": {},
   "source": [
    "## Create netCDF without subsetting any variables\n",
    "\n",
    "By default only variables that have metadata defined for them are exported\n"
   ]
  },
  {
   "cell_type": "code",
   "execution_count": 8,
   "metadata": {},
   "outputs": [
    {
     "name": "stderr",
     "output_type": "stream",
     "text": [
      "Created: /tmp/tmpmm2yto_x/bass_20160909T165240Z_1473439960_rt.nc\n",
      "Created: /tmp/tmpmm2yto_x/bass_20160909T165732Z_1473440252_rt.nc\n",
      "Created: /tmp/tmpmm2yto_x/bass_20160909T170018Z_1473440418_rt.nc\n",
      "Created: /tmp/tmpmm2yto_x/bass_20160909T170513Z_1473440713_rt.nc\n",
      "Created: /tmp/tmpmm2yto_x/bass_20160909T170804Z_1473440884_rt.nc\n",
      "Created: /tmp/tmpmm2yto_x/bass_20160909T171144Z_1473441104_rt.nc\n"
     ]
    },
    {
     "name": "stdout",
     "output_type": "stream",
     "text": [
      "['trajectory',\n",
      " 'crs',\n",
      " 'time',\n",
      " 'depth',\n",
      " 'lat',\n",
      " 'lon',\n",
      " 'c_heading',\n",
      " 'c_wpt_lat',\n",
      " 'm_altitude',\n",
      " 'm_avg_speed',\n",
      " 'm_ballast_pumped',\n",
      " 'm_battery',\n",
      " 'm_battpos',\n",
      " 'm_depth',\n",
      " 'm_depth_rate',\n",
      " 'm_gps_lat',\n",
      " 'm_gps_lon',\n",
      " 'm_heading',\n",
      " 'm_lat',\n",
      " 'm_leakdetect_voltage',\n",
      " 'm_lon',\n",
      " 'm_mission_avg_speed_climbing',\n",
      " 'm_mission_avg_speed_diving',\n",
      " 'm_pitch',\n",
      " 'm_present_time',\n",
      " 'm_roll',\n",
      " 'm_vacuum',\n",
      " 'm_vehicle_temp',\n",
      " 'm_water_depth',\n",
      " 'sci_bbfl2s_bb_scaled',\n",
      " 'sci_bbfl2s_cdom_scaled',\n",
      " 'sci_bbfl2s_chlor_scaled',\n",
      " 'sci_m_present_time',\n",
      " 'sci_oxy3835_oxygen',\n",
      " 'conductivity',\n",
      " 'sci_water_pressure',\n",
      " 'temperature',\n",
      " 'drv_m_gps_lat',\n",
      " 'drv_m_gps_lon',\n",
      " 'pressure',\n",
      " 'salinity',\n",
      " 'density',\n",
      " 'lat_uv',\n",
      " 'lon_uv',\n",
      " 'platform',\n",
      " 'profile_id',\n",
      " 'profile_lat',\n",
      " 'profile_lon',\n",
      " 'profile_time',\n",
      " 'time_uv',\n",
      " 'u',\n",
      " 'v']\n"
     ]
    }
   ],
   "source": [
    "# Export the actual netCDF files, no subset\n",
    "netcdf_files = create_netcdf(\n",
    "    attrs=default_attrs,\n",
    "    data=standard,\n",
    "    output_path=netcdf_output,\n",
    "    subset=False,\n",
    "    mode=mode\n",
    ")\n",
    "import netCDF4 as nc4\n",
    "with nc4.Dataset(netcdf_files[0]) as first_profile:\n",
    "    pprint(list(first_profile.variables.keys()))"
   ]
  },
  {
   "cell_type": "markdown",
   "metadata": {},
   "source": [
    "## Produced netCDF files have metadata automatically calculated"
   ]
  },
  {
   "cell_type": "code",
   "execution_count": 9,
   "metadata": {
    "scrolled": true
   },
   "outputs": [
    {
     "name": "stdout",
     "output_type": "stream",
     "text": [
      "<class 'netCDF4._netCDF4.Dataset'>\n",
      "root group (NETCDF4 data model, file format HDF5):\n",
      "    featureType: trajectory\n",
      "    date_created: 2017-11-06T16:52:02Z\n",
      "    Conventions: CF-1.6, Unidata Dataset Discovery v1.0\n",
      "    cdm_data_type: trajectory\n",
      "    format_version: IOOS_Glider_NetCDF_v3.0-noqartod.nc\n",
      "    keywords: AUVS > Autonomous Underwater Vehicles, Oceans > Ocean Pressure > Water Pressure, Oceans > Ocean Temperature > Water Temperature, Oceans > Salinity/Density > Conductivity, Oceans > Salinity/Density > Density, Oceans > Salinity/Density > Salinity\n",
      "    keywords_vocabulary: GCMD Science Keywords\n",
      "    license: This data may be redistributed and used without restriction.  Data provided as is with no expressed or implied assurance of quality assurance or quality control\n",
      "    Metadata_Conventions: CF-1.6, Unidata Dataset Discovery v1.0\n",
      "    platform_type: Slocum Glider\n",
      "    processing_level: Dataset taken from glider native file format and is provided as is with no expressed or implied assurance of quality assurance or quality control.\n",
      "    source: Observational data from a profiling glider\n",
      "    standard_name_vocabulary: CF-v25\n",
      "    summary: Gliders are small, free-swimming, unmanned vehicles that use changes in buoyancy to move vertically and horizontally through the water column in a saw-tooth pattern. They are deployed for days to several months and gather detailed information about the physical, chemical and biological processes of the water.\n",
      "    title: Glider Dataset\n",
      "    geospatial_lon_min: -80.29825\n",
      "    geospatial_lat_min: 28.36769\n",
      "    geospatial_lat_max: 28.36829\n",
      "    geospatial_bounds: POLYGON ((28.368290 -80.298250, 28.368290 -80.298010, 28.367690 -80.298010, 28.367690 -80.298250, 28.368290 -80.298250))\n",
      "    geospatial_lon_max: -80.29801\n",
      "    geospatial_vertical_max: 22.020785\n",
      "    geospatial_vertical_units: m\n",
      "    geospatial_vertical_min: 0.258264\n",
      "    time_coverage_duration: P0DT0H4M45.92457S\n",
      "    time_coverage_start: 2016-09-09T16:52:40Z\n",
      "    time_coverage_end: 2016-09-09T16:57:26Z\n",
      "    date_issued: 2017-11-06T16:52:02Z\n",
      "    history: 2017-11-06T16:52:02Z - Created with the GUTILS package: \"/home/kwilcox/miniconda3-py36/envs/gutils35/lib/python3.5/site-packages/ipykernel_launcher.py\"\n",
      "    date_modified: 2017-11-06T16:52:02Z\n",
      "    id: bass-20160909T1733\n",
      "    dimensions(sizes): obs(155)\n",
      "    variables(dimensions): <class 'str'> \u001b[4mtrajectory\u001b[0m(), int32 \u001b[4mcrs\u001b[0m(), float64 \u001b[4mtime\u001b[0m(obs), float64 \u001b[4mdepth\u001b[0m(obs), float64 \u001b[4mlat\u001b[0m(obs), float64 \u001b[4mlon\u001b[0m(obs), float64 \u001b[4mc_heading\u001b[0m(obs), float64 \u001b[4mc_wpt_lat\u001b[0m(obs), float64 \u001b[4mm_altitude\u001b[0m(obs), float64 \u001b[4mm_avg_speed\u001b[0m(obs), float64 \u001b[4mm_ballast_pumped\u001b[0m(obs), float64 \u001b[4mm_battery\u001b[0m(obs), float64 \u001b[4mm_battpos\u001b[0m(obs), float64 \u001b[4mm_depth\u001b[0m(obs), float64 \u001b[4mm_depth_rate\u001b[0m(obs), float64 \u001b[4mm_gps_lat\u001b[0m(obs), float64 \u001b[4mm_gps_lon\u001b[0m(obs), float64 \u001b[4mm_heading\u001b[0m(obs), float64 \u001b[4mm_lat\u001b[0m(obs), float64 \u001b[4mm_leakdetect_voltage\u001b[0m(obs), float64 \u001b[4mm_lon\u001b[0m(obs), float64 \u001b[4mm_mission_avg_speed_climbing\u001b[0m(obs), float64 \u001b[4mm_mission_avg_speed_diving\u001b[0m(obs), float64 \u001b[4mm_pitch\u001b[0m(obs), float64 \u001b[4mm_present_time\u001b[0m(obs), float64 \u001b[4mm_roll\u001b[0m(obs), float64 \u001b[4mm_vacuum\u001b[0m(obs), float64 \u001b[4mm_vehicle_temp\u001b[0m(obs), float64 \u001b[4mm_water_depth\u001b[0m(obs), float64 \u001b[4msci_bbfl2s_bb_scaled\u001b[0m(obs), float64 \u001b[4msci_bbfl2s_cdom_scaled\u001b[0m(obs), float64 \u001b[4msci_bbfl2s_chlor_scaled\u001b[0m(obs), float64 \u001b[4msci_m_present_time\u001b[0m(obs), float64 \u001b[4msci_oxy3835_oxygen\u001b[0m(obs), float64 \u001b[4mconductivity\u001b[0m(obs), float64 \u001b[4msci_water_pressure\u001b[0m(obs), float64 \u001b[4mtemperature\u001b[0m(obs), float64 \u001b[4mdrv_m_gps_lat\u001b[0m(obs), float64 \u001b[4mdrv_m_gps_lon\u001b[0m(obs), float64 \u001b[4mpressure\u001b[0m(obs), float64 \u001b[4msalinity\u001b[0m(obs), float64 \u001b[4mdensity\u001b[0m(obs), float64 \u001b[4mlat_uv\u001b[0m(), float64 \u001b[4mlon_uv\u001b[0m(), int32 \u001b[4mplatform\u001b[0m(), int32 \u001b[4mprofile_id\u001b[0m(), float64 \u001b[4mprofile_lat\u001b[0m(), float64 \u001b[4mprofile_lon\u001b[0m(), float64 \u001b[4mprofile_time\u001b[0m(), float64 \u001b[4mtime_uv\u001b[0m(), float64 \u001b[4mu\u001b[0m(), float64 \u001b[4mv\u001b[0m()\n",
      "    groups: \n",
      "\n"
     ]
    }
   ],
   "source": [
    "with nc4.Dataset(netcdf_files[0]) as first_profile:\n",
    "    print(first_profile)"
   ]
  },
  {
   "cell_type": "markdown",
   "metadata": {},
   "source": [
    "## Built-in compliance checker"
   ]
  },
  {
   "cell_type": "code",
   "execution_count": 10,
   "metadata": {},
   "outputs": [],
   "source": [
    "from types import SimpleNamespace\n",
    "from gutils.nc import check_dataset"
   ]
  },
  {
   "cell_type": "code",
   "execution_count": 11,
   "metadata": {},
   "outputs": [
    {
     "data": {
      "text/plain": [
       "0"
      ]
     },
     "execution_count": 11,
     "metadata": {},
     "output_type": "execute_result"
    }
   ],
   "source": [
    "# Good file will return 0\n",
    "first = SimpleNamespace(file=netcdf_files[0])\n",
    "check_dataset(first)"
   ]
  },
  {
   "cell_type": "code",
   "execution_count": 12,
   "metadata": {},
   "outputs": [
    {
     "name": "stderr",
     "output_type": "stream",
     "text": [
      "WARNING: The following exceptions occured during the gliderdac checker (possibly indicate compliance checker issues):\n",
      "gliderdac.check_primary_variable_attributes: 'pressure'\n",
      "  File \"/home/kwilcox/miniconda3-py36/envs/gutils35/lib/python3.5/site-packages/cc_plugin_glider/glider_dac.py\", line 336, in check_primary_variable_attributes\n",
      "    test = hasattr(dataset.variables[var], attribute)\n",
      "\n"
     ]
    },
    {
     "data": {
      "text/plain": [
       "1"
      ]
     },
     "execution_count": 12,
     "metadata": {},
     "output_type": "execute_result"
    }
   ],
   "source": [
    "# Bad file will return 1 and log the errors\n",
    "bad = SimpleNamespace(file=str(ascii_folder.parent / 'should_fail.nc'))\n",
    "check_dataset(bad)"
   ]
  }
 ],
 "metadata": {
  "kernelspec": {
   "display_name": "Python 3",
   "language": "python",
   "name": "python3"
  },
  "language_info": {
   "codemirror_mode": {
    "name": "ipython",
    "version": 3
   },
   "file_extension": ".py",
   "mimetype": "text/x-python",
   "name": "python",
   "nbconvert_exporter": "python",
   "pygments_lexer": "ipython3",
   "version": "3.5.3"
  }
 },
 "nbformat": 4,
 "nbformat_minor": 2
}
